{
 "cells": [
  {
   "cell_type": "code",
   "execution_count": 1,
   "metadata": {
    "colab": {},
    "colab_type": "code",
    "id": "FS-Fe5h42Php"
   },
   "outputs": [],
   "source": [
    "from __future__ import print_function, division\n",
    "\n",
    "import tensorflow as tf\n",
    "from tensorflow.keras.layers import Dense, Dropout, Flatten, Reshape, Input, BatchNormalization, Activation, ZeroPadding2D, MaxPooling2D, AveragePooling2D\n",
    "from tensorflow.keras.layers import LeakyReLU\n",
    "from tensorflow.keras.layers import UpSampling2D, Conv2D\n",
    "from tensorflow.keras.models import Model, Sequential\n",
    "from tensorflow.keras.optimizers import Adam\n",
    "from PIL import Image\n",
    "from keras.utils import plot_model\n",
    "from numpy import random\n",
    "\n",
    "import matplotlib.pyplot as plt\n",
    "import numpy as np\n",
    "import sys\n",
    "import os as os"
   ]
  },
  {
   "cell_type": "code",
   "execution_count": 2,
   "metadata": {
    "colab": {},
    "colab_type": "code",
    "id": "BJdEXvLC2kzo"
   },
   "outputs": [],
   "source": [
    "noise_shape = 100\n",
    "nh = 64\n",
    "nw = 64\n",
    "nc = 3\n",
    "img_shape = (nh, nw, nc)\n",
    "\n",
    "# Carefully chosen parameters \n",
    "d_opt = Adam(lr = 0.0002, beta_1 = 0.5)\n",
    "g_opt = Adam(lr = 0.0002, beta_1 = 0.5)"
   ]
  },
  {
   "cell_type": "code",
   "execution_count": 3,
   "metadata": {
    "colab": {},
    "colab_type": "code",
    "id": "GeyQN08j3F1B"
   },
   "outputs": [],
   "source": [
    "def build_generator():\n",
    "  \n",
    "  model = Sequential()\n",
    "  model.add(Dense(128 * 4 * 4, activation=\"relu\", input_dim = noise_shape, name = 'Dense_Layer'))\n",
    "  model.add(Reshape((4, 4, 128) , name = \"Reshape_Layer\"))\n",
    "  \n",
    "  model.add(UpSampling2D(name = 'UpSampling_Layer'))\n",
    "  model.add(Conv2D(64, kernel_size=3,  padding=\"same\", name = \"Conv_Layer\"))\n",
    "  model.add(LeakyReLU(alpha=0.2, name = 'Leaky_ReLU'))\n",
    "  model.add(BatchNormalization(momentum=0.8, name = \"Batch_Norm\"))\n",
    "  \n",
    "  model.add(UpSampling2D(name = 'UpSampling_Layer_2'))\n",
    "  model.add(Conv2D(32, kernel_size=3, padding=\"same\", name = 'Conv_Layer_2'))\n",
    "  model.add(LeakyReLU(alpha=0.2, name = 'Leaky_ReLU_2'))\n",
    "  model.add(BatchNormalization(momentum=0.8, name = 'Batch_Norm_2'))\n",
    "  \n",
    "  model.add(UpSampling2D(name = 'UpSampling_Layer_3'))\n",
    "  model.add(Conv2D(16, kernel_size=3, padding=\"same\", name = 'Conv_Layer_3'))\n",
    "  model.add(LeakyReLU(alpha=0.2, name = 'Leaky_ReLU_3'))\n",
    "  model.add(BatchNormalization(momentum=0.8, name = 'Batch_Norm_3'))\n",
    "  \n",
    "  model.add(UpSampling2D(name = 'UpSampling_Layer_4'))\n",
    "  model.add(Conv2D(8, kernel_size=3, padding=\"same\", name = 'Conv_Layer_4'))\n",
    "  model.add(LeakyReLU(alpha=0.2, name = 'Leaky_ReLU_4'))\n",
    "  model.add(BatchNormalization(momentum=0.8, name = 'Batch_Norm_4'))\n",
    "  \n",
    "  model.add(Conv2D(4, kernel_size=3, padding=\"same\", name = 'Conv_Layer_5'))\n",
    "  model.add(LeakyReLU(alpha=0.2, name = 'Leaky_ReLU_5'))\n",
    "  model.add(BatchNormalization(momentum=0.8, name = 'Batch_Norm_5'))\n",
    "  \n",
    "  model.add(Conv2D(3, kernel_size=3, padding=\"same\", name = 'Conv_Layer_6'))\n",
    "  model.add(LeakyReLU(alpha=0.2, name = 'Leaky_ReLU_6'))\n",
    "  model.add(BatchNormalization(momentum=0.8, name = 'Batch_Norm_6'))\n",
    "  model.add(Activation(\"tanh\"))\n",
    "   \n",
    "  print(model.summary())\n",
    "  \n",
    "  #Picturizing model\n",
    "  plot_model(model, to_file='Model Architecture/generator.png')\n",
    "  \n",
    "  noise = Input(shape = (noise_shape,))\n",
    "  img = model(noise)\n",
    "  \n",
    "  return Model(inputs = noise, outputs = img, name = \"Generator\")\n",
    "  "
   ]
  },
  {
   "cell_type": "code",
   "execution_count": 4,
   "metadata": {
    "colab": {},
    "colab_type": "code",
    "id": "O6QaylpG3swT"
   },
   "outputs": [
    {
     "name": "stdout",
     "output_type": "stream",
     "text": [
      "Model: \"sequential\"\n",
      "_________________________________________________________________\n",
      "Layer (type)                 Output Shape              Param #   \n",
      "=================================================================\n",
      "Dense_Layer (Dense)          (None, 2048)              206848    \n",
      "_________________________________________________________________\n",
      "Reshape_Layer (Reshape)      (None, 4, 4, 128)         0         \n",
      "_________________________________________________________________\n",
      "UpSampling_Layer (UpSampling (None, 8, 8, 128)         0         \n",
      "_________________________________________________________________\n",
      "Conv_Layer (Conv2D)          (None, 8, 8, 64)          73792     \n",
      "_________________________________________________________________\n",
      "Leaky_ReLU (LeakyReLU)       (None, 8, 8, 64)          0         \n",
      "_________________________________________________________________\n",
      "Batch_Norm (BatchNormalizati (None, 8, 8, 64)          256       \n",
      "_________________________________________________________________\n",
      "UpSampling_Layer_2 (UpSampli (None, 16, 16, 64)        0         \n",
      "_________________________________________________________________\n",
      "Conv_Layer_2 (Conv2D)        (None, 16, 16, 32)        18464     \n",
      "_________________________________________________________________\n",
      "Leaky_ReLU_2 (LeakyReLU)     (None, 16, 16, 32)        0         \n",
      "_________________________________________________________________\n",
      "Batch_Norm_2 (BatchNormaliza (None, 16, 16, 32)        128       \n",
      "_________________________________________________________________\n",
      "UpSampling_Layer_3 (UpSampli (None, 32, 32, 32)        0         \n",
      "_________________________________________________________________\n",
      "Conv_Layer_3 (Conv2D)        (None, 32, 32, 16)        4624      \n",
      "_________________________________________________________________\n",
      "Leaky_ReLU_3 (LeakyReLU)     (None, 32, 32, 16)        0         \n",
      "_________________________________________________________________\n",
      "Batch_Norm_3 (BatchNormaliza (None, 32, 32, 16)        64        \n",
      "_________________________________________________________________\n",
      "UpSampling_Layer_4 (UpSampli (None, 64, 64, 16)        0         \n",
      "_________________________________________________________________\n",
      "Conv_Layer_4 (Conv2D)        (None, 64, 64, 8)         1160      \n",
      "_________________________________________________________________\n",
      "Leaky_ReLU_4 (LeakyReLU)     (None, 64, 64, 8)         0         \n",
      "_________________________________________________________________\n",
      "Batch_Norm_4 (BatchNormaliza (None, 64, 64, 8)         32        \n",
      "_________________________________________________________________\n",
      "Conv_Layer_5 (Conv2D)        (None, 64, 64, 4)         292       \n",
      "_________________________________________________________________\n",
      "Leaky_ReLU_5 (LeakyReLU)     (None, 64, 64, 4)         0         \n",
      "_________________________________________________________________\n",
      "Batch_Norm_5 (BatchNormaliza (None, 64, 64, 4)         16        \n",
      "_________________________________________________________________\n",
      "Conv_Layer_6 (Conv2D)        (None, 64, 64, 3)         111       \n",
      "_________________________________________________________________\n",
      "Leaky_ReLU_6 (LeakyReLU)     (None, 64, 64, 3)         0         \n",
      "_________________________________________________________________\n",
      "Batch_Norm_6 (BatchNormaliza (None, 64, 64, 3)         12        \n",
      "_________________________________________________________________\n",
      "activation (Activation)      (None, 64, 64, 3)         0         \n",
      "=================================================================\n",
      "Total params: 305,799\n",
      "Trainable params: 305,545\n",
      "Non-trainable params: 254\n",
      "_________________________________________________________________\n",
      "None\n",
      "('Failed to import pydot. You must `pip install pydot` and install graphviz (https://graphviz.gitlab.io/download/), ', 'for `pydotprint` to work.')\n",
      "Model: \"Generator\"\n",
      "_________________________________________________________________\n",
      "Layer (type)                 Output Shape              Param #   \n",
      "=================================================================\n",
      "input_1 (InputLayer)         [(None, 100)]             0         \n",
      "_________________________________________________________________\n",
      "sequential (Sequential)      (None, 64, 64, 3)         305799    \n",
      "=================================================================\n",
      "Total params: 305,799\n",
      "Trainable params: 305,545\n",
      "Non-trainable params: 254\n",
      "_________________________________________________________________\n"
     ]
    }
   ],
   "source": [
    "generator = build_generator()\n",
    "generator.summary()"
   ]
  },
  {
   "cell_type": "code",
   "execution_count": 5,
   "metadata": {
    "colab": {},
    "colab_type": "code",
    "id": "EwqnDYfm3uXu"
   },
   "outputs": [],
   "source": [
    "def build_discriminator():\n",
    "  model = Sequential()\n",
    "  \n",
    "  model.add(Conv2D(4, kernel_size=3, input_shape = img_shape, padding=\"same\", name = 'Conv_Layer'))\n",
    "  model.add(LeakyReLU(alpha=0.2, name = 'Leaky_ReLU'))\n",
    "  model.add(BatchNormalization(momentum=0.8, name = 'Batch_Norm'))\n",
    "  \n",
    "  model.add(Conv2D(8, kernel_size=3, strides = 2, name = 'Conv_Layer_2'))\n",
    "  model.add(LeakyReLU(alpha=0.2, name = 'Leaky_ReLU_2'))\n",
    "  model.add(BatchNormalization(momentum=0.8, name = 'Batch_Norm_2'))\n",
    "  \n",
    "  model.add(Conv2D(16, kernel_size=3, strides = 2, name = 'Conv_Layer_3'))\n",
    "  model.add(LeakyReLU(alpha=0.2, name = 'Leaky_ReLU_3'))\n",
    "  model.add(BatchNormalization(momentum=0.8, name = 'Batch_Norm_3'))\n",
    "  \n",
    "  model.add(Conv2D(32, kernel_size=3, strides = 2, name = 'Conv_Layer_4'))\n",
    "  model.add(LeakyReLU(alpha=0.2, name = 'Leaky_ReLU_4'))\n",
    "  model.add(BatchNormalization(momentum=0.8, name = 'Batch_Norm_4'))\n",
    "  \n",
    "  model.add(Conv2D(64, kernel_size=2, strides = 1, name = 'Conv_Layer_5'))\n",
    "  model.add(LeakyReLU(alpha=0.2, name = 'Leaky_ReLU_5'))\n",
    "  model.add(BatchNormalization(momentum=0.8, name = 'Batch_Norm_5'))\n",
    "  \n",
    "  \n",
    "  model.add(Flatten(name = 'Flatten'))\n",
    "  model.add(Dense(512, name = 'Dense_Layer'))\n",
    "  model.add(LeakyReLU(alpha=0.2, name = 'Leaky_ReLU_6'))\n",
    "  \n",
    "  model.add(Dense(256, name = 'Dense_Layer_2'))\n",
    "  model.add(LeakyReLU(alpha=0.2, name = 'Leaky_ReLU_7'))\n",
    "  model.add(Dense(1, activation='sigmoid', name = 'Dense_with_Sigmoid'))\n",
    "  \n",
    "  print(model.summary())\n",
    "  \n",
    "  #Picturizing model\n",
    "  plot_model(model, to_file='Model Architecture/discriminator.png')\n",
    "  \n",
    "  img = Input(shape = img_shape)\n",
    "  validity = model(img)\n",
    "  \n",
    "  return Model(inputs = img, outputs = validity, name = 'Discriminator')"
   ]
  },
  {
   "cell_type": "code",
   "execution_count": 6,
   "metadata": {
    "colab": {},
    "colab_type": "code",
    "id": "SwqJneJS5Wpi"
   },
   "outputs": [
    {
     "name": "stdout",
     "output_type": "stream",
     "text": [
      "Model: \"sequential_1\"\n",
      "_________________________________________________________________\n",
      "Layer (type)                 Output Shape              Param #   \n",
      "=================================================================\n",
      "Conv_Layer (Conv2D)          (None, 64, 64, 4)         112       \n",
      "_________________________________________________________________\n",
      "Leaky_ReLU (LeakyReLU)       (None, 64, 64, 4)         0         \n",
      "_________________________________________________________________\n",
      "Batch_Norm (BatchNormalizati (None, 64, 64, 4)         16        \n",
      "_________________________________________________________________\n",
      "Conv_Layer_2 (Conv2D)        (None, 31, 31, 8)         296       \n",
      "_________________________________________________________________\n",
      "Leaky_ReLU_2 (LeakyReLU)     (None, 31, 31, 8)         0         \n",
      "_________________________________________________________________\n",
      "Batch_Norm_2 (BatchNormaliza (None, 31, 31, 8)         32        \n",
      "_________________________________________________________________\n",
      "Conv_Layer_3 (Conv2D)        (None, 15, 15, 16)        1168      \n",
      "_________________________________________________________________\n",
      "Leaky_ReLU_3 (LeakyReLU)     (None, 15, 15, 16)        0         \n",
      "_________________________________________________________________\n",
      "Batch_Norm_3 (BatchNormaliza (None, 15, 15, 16)        64        \n",
      "_________________________________________________________________\n",
      "Conv_Layer_4 (Conv2D)        (None, 7, 7, 32)          4640      \n",
      "_________________________________________________________________\n",
      "Leaky_ReLU_4 (LeakyReLU)     (None, 7, 7, 32)          0         \n",
      "_________________________________________________________________\n",
      "Batch_Norm_4 (BatchNormaliza (None, 7, 7, 32)          128       \n",
      "_________________________________________________________________\n",
      "Conv_Layer_5 (Conv2D)        (None, 6, 6, 64)          8256      \n",
      "_________________________________________________________________\n",
      "Leaky_ReLU_5 (LeakyReLU)     (None, 6, 6, 64)          0         \n",
      "_________________________________________________________________\n",
      "Batch_Norm_5 (BatchNormaliza (None, 6, 6, 64)          256       \n",
      "_________________________________________________________________\n",
      "Flatten (Flatten)            (None, 2304)              0         \n",
      "_________________________________________________________________\n",
      "Dense_Layer (Dense)          (None, 512)               1180160   \n",
      "_________________________________________________________________\n",
      "Leaky_ReLU_6 (LeakyReLU)     (None, 512)               0         \n",
      "_________________________________________________________________\n",
      "Dense_Layer_2 (Dense)        (None, 256)               131328    \n",
      "_________________________________________________________________\n",
      "Leaky_ReLU_7 (LeakyReLU)     (None, 256)               0         \n",
      "_________________________________________________________________\n",
      "Dense_with_Sigmoid (Dense)   (None, 1)                 257       \n",
      "=================================================================\n",
      "Total params: 1,326,713\n",
      "Trainable params: 1,326,465\n",
      "Non-trainable params: 248\n",
      "_________________________________________________________________\n",
      "None\n",
      "('Failed to import pydot. You must `pip install pydot` and install graphviz (https://graphviz.gitlab.io/download/), ', 'for `pydotprint` to work.')\n",
      "Model: \"Discriminator\"\n",
      "_________________________________________________________________\n",
      "Layer (type)                 Output Shape              Param #   \n",
      "=================================================================\n",
      "input_2 (InputLayer)         [(None, 64, 64, 3)]       0         \n",
      "_________________________________________________________________\n",
      "sequential_1 (Sequential)    (None, 1)                 1326713   \n",
      "=================================================================\n",
      "Total params: 1,326,713\n",
      "Trainable params: 1,326,465\n",
      "Non-trainable params: 248\n",
      "_________________________________________________________________\n"
     ]
    }
   ],
   "source": [
    "discriminator = build_discriminator()\n",
    "discriminator.summary()\n",
    "\n",
    "discriminator.compile(loss = 'binary_crossentropy', optimizer = d_opt, metrics = ['accuracy'])"
   ]
  },
  {
   "cell_type": "code",
   "execution_count": 7,
   "metadata": {
    "colab": {},
    "colab_type": "code",
    "id": "x8NZedcg5W4P"
   },
   "outputs": [
    {
     "name": "stdout",
     "output_type": "stream",
     "text": [
      "Model: \"functional_1\"\n",
      "_________________________________________________________________\n",
      "Layer (type)                 Output Shape              Param #   \n",
      "=================================================================\n",
      "Input_Noise (InputLayer)     [(None, 100)]             0         \n",
      "_________________________________________________________________\n",
      "Generator (Functional)       (None, 64, 64, 3)         305799    \n",
      "_________________________________________________________________\n",
      "Discriminator (Functional)   (None, 1)                 1326713   \n",
      "=================================================================\n",
      "Total params: 1,632,512\n",
      "Trainable params: 305,545\n",
      "Non-trainable params: 1,326,967\n",
      "_________________________________________________________________\n",
      "('Failed to import pydot. You must `pip install pydot` and install graphviz (https://graphviz.gitlab.io/download/), ', 'for `pydotprint` to work.')\n"
     ]
    }
   ],
   "source": [
    "z = Input(shape = (noise_shape,), name = \"Input_Noise\")\n",
    "img = generator(z)\n",
    "\n",
    "discriminator.trainable = False\n",
    "valid = discriminator(img)\n",
    "\n",
    "combined = Model(z, valid)\n",
    "combined.compile(loss = 'binary_crossentropy', optimizer = g_opt)\n",
    "combined.summary()\n",
    "\n",
    "#Picturizing model\n",
    "plot_model(combined, to_file='Model Architecture/combined.png')"
   ]
  },
  {
   "cell_type": "code",
   "execution_count": 8,
   "metadata": {
    "colab": {},
    "colab_type": "code",
    "id": "OpHkFPDy5cTP"
   },
   "outputs": [
    {
     "name": "stdout",
     "output_type": "stream",
     "text": [
      "Model: \"Generator\"\n",
      "_________________________________________________________________\n",
      "Layer (type)                 Output Shape              Param #   \n",
      "=================================================================\n",
      "input_1 (InputLayer)         [(None, 100)]             0         \n",
      "_________________________________________________________________\n",
      "sequential (Sequential)      (None, 64, 64, 3)         305799    \n",
      "=================================================================\n",
      "Total params: 305,799\n",
      "Trainable params: 305,545\n",
      "Non-trainable params: 254\n",
      "_________________________________________________________________\n",
      "None\n",
      "Model: \"Discriminator\"\n",
      "_________________________________________________________________\n",
      "Layer (type)                 Output Shape              Param #   \n",
      "=================================================================\n",
      "input_2 (InputLayer)         [(None, 64, 64, 3)]       0         \n",
      "_________________________________________________________________\n",
      "sequential_1 (Sequential)    (None, 1)                 1326713   \n",
      "=================================================================\n",
      "Total params: 1,326,713\n",
      "Trainable params: 0\n",
      "Non-trainable params: 1,326,713\n",
      "_________________________________________________________________\n",
      "None\n",
      "Model: \"functional_1\"\n",
      "_________________________________________________________________\n",
      "Layer (type)                 Output Shape              Param #   \n",
      "=================================================================\n",
      "Input_Noise (InputLayer)     [(None, 100)]             0         \n",
      "_________________________________________________________________\n",
      "Generator (Functional)       (None, 64, 64, 3)         305799    \n",
      "_________________________________________________________________\n",
      "Discriminator (Functional)   (None, 1)                 1326713   \n",
      "=================================================================\n",
      "Total params: 1,632,512\n",
      "Trainable params: 305,545\n",
      "Non-trainable params: 1,326,967\n",
      "_________________________________________________________________\n",
      "None\n"
     ]
    }
   ],
   "source": [
    "print(generator.summary())\n",
    "print(discriminator.summary())\n",
    "print(combined.summary())"
   ]
  },
  {
   "cell_type": "code",
   "execution_count": 9,
   "metadata": {
    "colab": {},
    "colab_type": "code",
    "id": "xiYeYnjHIdQ4"
   },
   "outputs": [],
   "source": [
    "def get_batch(width, height):\n",
    "  image_files = os.listdir(\"C:\\\\Users\\\\Tushar\\\\Downloads\\\\DCGAN\\\\content\\\\100k\\\\\")[:]\n",
    "  data_batch = []\n",
    "  \n",
    "  for file in image_files:\n",
    "    img = Image.open(\"C:\\\\Users\\\\Tushar\\\\Downloads\\\\DCGAN\\\\content\\\\100k\\\\\"+file).resize([width, height])\n",
    "    data_batch.append(np.array(img.convert('RGB')))\n",
    "    \n",
    "  data_batch = np.array(data_batch)\n",
    "  print(data_batch.shape)\n",
    "  return data_batch"
   ]
  },
  {
   "cell_type": "code",
   "execution_count": 10,
   "metadata": {},
   "outputs": [],
   "source": [
    "g_losses = []\n",
    "d_losses = []"
   ]
  },
  {
   "cell_type": "code",
   "execution_count": 11,
   "metadata": {
    "colab": {},
    "colab_type": "code",
    "id": "xYiMGq1g5dwP"
   },
   "outputs": [],
   "source": [
    "def train(batch_size = 64, epochs = 4000):\n",
    "  \n",
    "  \n",
    "  valid = np.ones((batch_size, 1))\n",
    "  fakes = np.zeros((batch_size, 1))\n",
    "  \n",
    "  X_train = get_batch(nw, nh)\n",
    "  X_train = (X_train.astype(np.float32) - 127.5) / 127.5\n",
    "  \n",
    "  for epoch in range(epochs):\n",
    "    \n",
    "    idx = np.random.randint(0, X_train.shape[0], batch_size)\n",
    "    imgs = X_train[idx]\n",
    "    \n",
    "    noise = np.random.normal(0, 1, (batch_size, noise_shape))\n",
    "    \n",
    "    gen_imgs = generator.predict(noise)\n",
    "\n",
    "    #Training Discriminator\n",
    "    d_loss_real = discriminator.train_on_batch(imgs, valid)\n",
    "    d_loss_fake = discriminator.train_on_batch(gen_imgs, fakes)\n",
    "    d_loss = 0.5*np.add(d_loss_real, d_loss_fake)\n",
    "\n",
    "    #Training Generator\n",
    "    g_loss = combined.train_on_batch(noise, valid)\n",
    "\n",
    "    #Progress\n",
    "    if (epoch+1)%1000 == 0:\n",
    "        print(\"epoch: \" + str(epoch+1) + \" \" + \"D_Loss = \" + str(d_loss[0]) + \" \" + \"acc: \" + str(d_loss[1]*100) + \" \" +  \"G_Loss = \" + str(g_loss))\n",
    "   \n",
    "    g_losses.append(float(d_loss[0]))\n",
    "    d_losses.append(float(g_loss))"
   ]
  },
  {
   "cell_type": "code",
   "execution_count": 13,
   "metadata": {
    "colab": {},
    "colab_type": "code",
    "id": "lWNd6a2hCHH6"
   },
   "outputs": [
    {
     "name": "stdout",
     "output_type": "stream",
     "text": [
      "(100000, 64, 64, 3)\n",
      "epoch: 1000 D_Loss = 0.0005970331403659657 acc: 100.0 G_Loss = 0.009568886831402779\n"
     ]
    }
   ],
   "source": [
    "train(128, 1000)"
   ]
  },
  {
   "cell_type": "code",
   "execution_count": 14,
   "metadata": {},
   "outputs": [
    {
     "data": {
      "image/png": "[encoded data removed]",
      "text/plain": [
       "<Figure size 720x360 with 1 Axes>"
      ]
     },
     "metadata": {
      "needs_background": "light"
     },
     "output_type": "display_data"
    }
   ],
   "source": [
    "plt.figure(figsize=(10,5))\n",
    "plt.title(\"Generator and Discriminator Loss During Training\")\n",
    "plt.plot(g_losses,label=\"G\")\n",
    "plt.plot(d_losses,label=\"D\")\n",
    "plt.xlabel(\"iterations\")\n",
    "plt.ylabel(\"Loss\")\n",
    "plt.legend()\n",
    "plt.show()"
   ]
  },
  {
   "cell_type": "code",
   "execution_count": 1,
   "metadata": {},
   "outputs": [
    {
     "ename": "NameError",
     "evalue": "name 'generator' is not defined",
     "output_type": "error",
     "traceback": [
      "\u001b[1;31m---------------------------------------------------------------------------\u001b[0m",
      "\u001b[1;31mNameError\u001b[0m                                 Traceback (most recent call last)",
      "\u001b[1;32m<ipython-input-1-b4c989b19b8e>\u001b[0m in \u001b[0;36m<module>\u001b[1;34m\u001b[0m\n\u001b[1;32m----> 1\u001b[1;33m \u001b[0mgenerator\u001b[0m\u001b[1;33m.\u001b[0m\u001b[0msave_weights\u001b[0m\u001b[1;33m(\u001b[0m\u001b[1;34m'generator1.h5'\u001b[0m\u001b[1;33m)\u001b[0m\u001b[1;33m\u001b[0m\u001b[1;33m\u001b[0m\u001b[0m\n\u001b[0m\u001b[0;32m      2\u001b[0m \u001b[0mdiscriminator\u001b[0m\u001b[1;33m.\u001b[0m\u001b[0msave_weights\u001b[0m\u001b[1;33m(\u001b[0m\u001b[1;34m'discriminator1.h5'\u001b[0m\u001b[1;33m)\u001b[0m\u001b[1;33m\u001b[0m\u001b[1;33m\u001b[0m\u001b[0m\n",
      "\u001b[1;31mNameError\u001b[0m: name 'generator' is not defined"
     ]
    }
   ],
   "source": [
    "generator.save_weights('generator1.h5')\n",
    "discriminator.save_weights('discriminator1.h5')"
   ]
  },
  {
   "cell_type": "code",
   "execution_count": 29,
   "metadata": {},
   "outputs": [],
   "source": [
    "generator.load_weights('generator1.h5')\n",
    "discriminator.load_weights('discriminator1.h5')"
   ]
  },
  {
   "cell_type": "code",
   "execution_count": 16,
   "metadata": {
    "colab": {},
    "colab_type": "code",
    "id": "lt-S5cnid3TL"
   },
   "outputs": [],
   "source": [
    "!mkdir 'images'"
   ]
  },
  {
   "cell_type": "markdown",
   "metadata": {
    "colab_type": "text",
    "id": "BIO6ER34FCaS"
   },
   "source": [
    "# Generating Images"
   ]
  },
  {
   "cell_type": "code",
   "execution_count": 30,
   "metadata": {
    "colab": {},
    "colab_type": "code",
    "id": "hoM_y_iS9hoL"
   },
   "outputs": [],
   "source": [
    "def save_imgs(epoch):\n",
    "  r, c = 3, 3\n",
    "  noise = np.random.normal(0, 1, (r * c, noise_shape))\n",
    "  gen_imgs = generator.predict(noise)\n",
    "\n",
    "  # Rescale images 0 - 1\n",
    "  gen_imgs = (1/2.5) * gen_imgs + 0.5\n",
    "\n",
    "  fig, axs = plt.subplots(r, c)\n",
    "  cnt = 0\n",
    "  for i in range(r):\n",
    "      for j in range(c):\n",
    "          axs[i,j].imshow(gen_imgs[cnt, :,:,:])\n",
    "          axs[i,j].axis('off')\n",
    "          cnt += 1\n",
    "  fig.savefig(\"images/%d.png\" % epoch)\n",
    "  plt.close()"
   ]
  },
  {
   "cell_type": "code",
   "execution_count": 31,
   "metadata": {
    "colab": {},
    "colab_type": "code",
    "id": "1wQ3OHmeXzmj"
   },
   "outputs": [],
   "source": [
    "save_imgs(100)"
   ]
  },
  {
   "cell_type": "code",
   "execution_count": null,
   "metadata": {
    "colab": {},
    "colab_type": "code",
    "id": "sQ9WNTLTGejh"
   },
   "outputs": [],
   "source": [
    "\n"
   ]
  }
 ],
 "metadata": {
  "accelerator": "GPU",
  "colab": {
   "collapsed_sections": [],
   "name": "DC_GANs_for_3_channel_images.ipynb",
   "provenance": [],
   "toc_visible": true,
   "version": "0.3.2"
  },
  "kernelspec": {
   "display_name": "Python 3",
   "language": "python",
   "name": "python3"
  },
  "language_info": {
   "codemirror_mode": {
    "name": "ipython",
    "version": 3
   },
   "file_extension": ".py",
   "mimetype": "text/x-python",
   "name": "python",
   "nbconvert_exporter": "python",
   "pygments_lexer": "ipython3",
   "version": "3.8.8"
  }
 },
 "nbformat": 4,
 "nbformat_minor": 1
}
