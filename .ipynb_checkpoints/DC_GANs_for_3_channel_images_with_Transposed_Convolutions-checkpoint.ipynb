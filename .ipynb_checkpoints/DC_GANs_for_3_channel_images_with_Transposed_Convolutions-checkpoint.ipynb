{
 "cells": [
  {
   "cell_type": "code",
   "execution_count": 0,
   "metadata": {
    "colab": {},
    "colab_type": "code",
    "id": "tyossioma0ux"
   },
   "outputs": [],
   "source": [
    "!mkdir 'Model Architecture transposed_convolutions'"
   ]
  },
  {
   "cell_type": "code",
   "execution_count": 1,
   "metadata": {
    "colab": {
     "base_uri": "https://localhost:8080/",
     "height": 34
    },
    "colab_type": "code",
    "id": "bLsOYNpxCiLt",
    "outputId": "0e8dc1ad-0842-45d0-d2da-015b96b8e254"
   },
   "outputs": [],
   "source": [
    "from __future__ import print_function, division\n",
    "\n",
    "from keras.layers import Dense, Conv2DTranspose, Dropout, Flatten, Reshape, Input, BatchNormalization, Activation, ZeroPadding2D, MaxPooling2D, AveragePooling2D\n",
    "from keras.layers.advanced_activations import LeakyReLU\n",
    "from keras.layers.convolutional import UpSampling2D, Conv2D\n",
    "from keras.models import Model, Sequential\n",
    "from keras.optimizers import Adam\n",
    "from PIL import Image\n",
    "from keras.utils import plot_model\n",
    "from numpy import random\n",
    "\n",
    "import matplotlib.pyplot as plt\n",
    "import numpy as np\n",
    "import sys\n",
    "import os as os\n",
    "import tensorflow as tf"
   ]
  },
  {
   "cell_type": "code",
   "execution_count": 2,
   "metadata": {
    "colab": {},
    "colab_type": "code",
    "id": "lil1919QCwtQ"
   },
   "outputs": [],
   "source": [
    "noise_shape = 100\n",
    "nh = 128\n",
    "nw = 128\n",
    "nc = 3\n",
    "img_shape = (nh, nw, nc)\n",
    "\n",
    "# Carefully chosen parameters \n",
    "d_opt = Adam(lr = 0.00004, beta_1 = 0.5)\n",
    "g_opt = Adam(lr = 0.0002, beta_1 = 0.5)\n",
    "\n",
    "WEIGHT_INIT_STDDEV = 0.02\n",
    "EPSILON = 0.00005"
   ]
  },
  {
   "cell_type": "code",
   "execution_count": 3,
   "metadata": {
    "colab": {},
    "colab_type": "code",
    "id": "yQl_VF-NDJX7"
   },
   "outputs": [],
   "source": [
    "def build_generator():\n",
    "  \n",
    "  # 8x8x1024\n",
    "  model = Sequential()\n",
    "  model.add(Dense(1024 * 8 * 8, input_dim = noise_shape, name = 'Dense_Layer'))\n",
    "  model.add(Reshape((8, 8, 1024) , name = \"Reshape_Layer\"))\n",
    "  model.add(LeakyReLU(name = 'Leaky_ReLU'))\n",
    "\n",
    "  # 8x8x1024 -> 16x16x512\n",
    "  model.add(Conv2DTranspose(512, kernel_size = 5, strides = 2, padding =\"same\", kernel_initializer = tf.compat.v1.truncated_normal_initializer(stddev=WEIGHT_INIT_STDDEV), name = \"Transposed_Convolution\"))  \n",
    "  model.add(BatchNormalization(epsilon = EPSILON, name = \"Batch_Norm\"))\n",
    "  model.add(LeakyReLU(name = 'Leaky_ReLU_2'))\n",
    "\n",
    "  # 16x16x512 -> 32x32x256\n",
    "  model.add(Conv2DTranspose(256, kernel_size = 5, strides = 2, padding =\"same\", kernel_initializer = tf.compat.v1.truncated_normal_initializer(stddev=WEIGHT_INIT_STDDEV), name = \"Transposed_Convolution_2\"))  \n",
    "  model.add(BatchNormalization(epsilon = EPSILON, name = \"Batch_Norm_2\"))\n",
    "  model.add(LeakyReLU(name = 'Leaky_ReLU_3'))\n",
    "  \n",
    "  # 32x32x256 -> 64x64x128\n",
    "  model.add(Conv2DTranspose(128, kernel_size = 5, strides = 2, padding =\"same\", kernel_initializer = tf.compat.v1.truncated_normal_initializer(stddev=WEIGHT_INIT_STDDEV), name = \"Transposed_Convolution_3\"))  \n",
    "  model.add(BatchNormalization(epsilon = EPSILON, name = \"Batch_Norm_3\"))\n",
    "  model.add(LeakyReLU(name = 'Leaky_ReLU_4'))\n",
    "  \n",
    "  # 64x64x128 -> 128x128x64\n",
    "  model.add(Conv2DTranspose(64, kernel_size = 5, strides = 2, padding =\"same\", kernel_initializer = tf.compat.v1.truncated_normal_initializer(stddev=WEIGHT_INIT_STDDEV), name = \"Transposed_Convolution_4\"))  \n",
    "  model.add(BatchNormalization(epsilon = EPSILON, name = \"Batch_Norm_4\"))\n",
    "  model.add(LeakyReLU(name = 'Leaky_ReLU_5'))\n",
    "  \n",
    "  # 128x128x64 -> 128x128x3\n",
    "  model.add(Conv2DTranspose(3, kernel_size = 5, strides = 1, padding =\"same\", kernel_initializer = tf.compat.v1.truncated_normal_initializer(stddev=WEIGHT_INIT_STDDEV), name = \"Transposed_Convolution_5\"))  \n",
    "  \n",
    "  #TANH ACTIVATION\n",
    "  model.add(Activation(\"tanh\"))\n",
    "    \n",
    "  print(model.summary())\n",
    "  \n",
    "  #Picturizing model\n",
    "  plot_model(model, to_file='Model Architecture transposed_convolutions/generator.png')\n",
    "  \n",
    "  noise = Input(shape = (noise_shape,))\n",
    "  img = model(noise)\n",
    "  \n",
    "  return Model(inputs = noise, outputs = img, name = \"Generator\")\n",
    "  "
   ]
  },
  {
   "cell_type": "code",
   "execution_count": 4,
   "metadata": {
    "colab": {
     "base_uri": "https://localhost:8080/",
     "height": 1146
    },
    "colab_type": "code",
    "id": "NCSleIL4FmvR",
    "outputId": "8cd7edad-04a2-4ccc-a968-06b1d8130776"
   },
   "outputs": [
    {
     "name": "stdout",
     "output_type": "stream",
     "text": [
      "Model: \"sequential\"\n",
      "_________________________________________________________________\n",
      "Layer (type)                 Output Shape              Param #   \n",
      "=================================================================\n",
      "Dense_Layer (Dense)          (None, 65536)             6619136   \n",
      "_________________________________________________________________\n",
      "Reshape_Layer (Reshape)      (None, 8, 8, 1024)        0         \n",
      "_________________________________________________________________\n",
      "Leaky_ReLU (LeakyReLU)       (None, 8, 8, 1024)        0         \n",
      "_________________________________________________________________\n",
      "Transposed_Convolution (Conv (None, 16, 16, 512)       13107712  \n",
      "_________________________________________________________________\n",
      "Batch_Norm (BatchNormalizati (None, 16, 16, 512)       2048      \n",
      "_________________________________________________________________\n",
      "Leaky_ReLU_2 (LeakyReLU)     (None, 16, 16, 512)       0         \n",
      "_________________________________________________________________\n",
      "Transposed_Convolution_2 (Co (None, 32, 32, 256)       3277056   \n",
      "_________________________________________________________________\n",
      "Batch_Norm_2 (BatchNormaliza (None, 32, 32, 256)       1024      \n",
      "_________________________________________________________________\n",
      "Leaky_ReLU_3 (LeakyReLU)     (None, 32, 32, 256)       0         \n",
      "_________________________________________________________________\n",
      "Transposed_Convolution_3 (Co (None, 64, 64, 128)       819328    \n",
      "_________________________________________________________________\n",
      "Batch_Norm_3 (BatchNormaliza (None, 64, 64, 128)       512       \n",
      "_________________________________________________________________\n",
      "Leaky_ReLU_4 (LeakyReLU)     (None, 64, 64, 128)       0         \n",
      "_________________________________________________________________\n",
      "Transposed_Convolution_4 (Co (None, 128, 128, 64)      204864    \n",
      "_________________________________________________________________\n",
      "Batch_Norm_4 (BatchNormaliza (None, 128, 128, 64)      256       \n",
      "_________________________________________________________________\n",
      "Leaky_ReLU_5 (LeakyReLU)     (None, 128, 128, 64)      0         \n",
      "_________________________________________________________________\n",
      "Transposed_Convolution_5 (Co (None, 128, 128, 3)       4803      \n",
      "_________________________________________________________________\n",
      "activation (Activation)      (None, 128, 128, 3)       0         \n",
      "=================================================================\n",
      "Total params: 24,036,739\n",
      "Trainable params: 24,034,819\n",
      "Non-trainable params: 1,920\n",
      "_________________________________________________________________\n",
      "None\n",
      "('Failed to import pydot. You must `pip install pydot` and install graphviz (https://graphviz.gitlab.io/download/), ', 'for `pydotprint` to work.')\n",
      "Model: \"Generator\"\n",
      "_________________________________________________________________\n",
      "Layer (type)                 Output Shape              Param #   \n",
      "=================================================================\n",
      "input_1 (InputLayer)         [(None, 100)]             0         \n",
      "_________________________________________________________________\n",
      "sequential (Sequential)      (None, 128, 128, 3)       24036739  \n",
      "=================================================================\n",
      "Total params: 24,036,739\n",
      "Trainable params: 24,034,819\n",
      "Non-trainable params: 1,920\n",
      "_________________________________________________________________\n"
     ]
    }
   ],
   "source": [
    "generator = build_generator()\n",
    "generator.summary()"
   ]
  },
  {
   "cell_type": "code",
   "execution_count": 5,
   "metadata": {
    "colab": {},
    "colab_type": "code",
    "id": "QF4BLKQIFoft"
   },
   "outputs": [],
   "source": [
    "def build_discriminator():\n",
    "  model = Sequential()\n",
    "  \n",
    "  # 128*128*3 -> 64x64x64\n",
    "  model.add(Conv2D(64, kernel_size=5, strides = 2, input_shape = img_shape, padding=\"same\", kernel_initializer=tf.compat.v1.truncated_normal_initializer(stddev=WEIGHT_INIT_STDDEV), name = 'Conv_Layer'))\n",
    "  model.add(BatchNormalization(epsilon = EPSILON, name = \"Batch_Norm\"))\n",
    "  model.add(LeakyReLU(name = 'Leaky_ReLU'))\n",
    "  \n",
    "  # 64x64x64-> 32x32x128\n",
    "  model.add(Conv2D(128, kernel_size=5, strides = 2, padding=\"same\", kernel_initializer=tf.compat.v1.truncated_normal_initializer(stddev=WEIGHT_INIT_STDDEV), name = 'Conv_Layer_2'))\n",
    "  model.add(BatchNormalization(epsilon = EPSILON, name = \"Batch_Norm_2\"))\n",
    "  model.add(LeakyReLU(name = 'Leaky_ReLU_2'))\n",
    "  \n",
    "  # 32x32x128 -> 16x16x256\n",
    "  model.add(Conv2D(256, kernel_size=5, strides = 2, padding=\"same\", kernel_initializer=tf.compat.v1.truncated_normal_initializer(stddev=WEIGHT_INIT_STDDEV), name = 'Conv_Layer_3'))\n",
    "  model.add(BatchNormalization(epsilon = EPSILON, name = \"Batch_Norm_3\"))\n",
    "  model.add(LeakyReLU(name = 'Leaky_ReLU_3'))\n",
    "  \n",
    "  # 16x16x256 -> 16x16x512\n",
    "  model.add(Conv2D(512, kernel_size=5, strides = 1, padding=\"same\", kernel_initializer=tf.compat.v1.truncated_normal_initializer(stddev=WEIGHT_INIT_STDDEV), name = 'Conv_Layer_4'))\n",
    "  model.add(BatchNormalization(epsilon = EPSILON, name = \"Batch_Norm_4\"))\n",
    "  model.add(LeakyReLU(name = 'Leaky_ReLU_4'))\n",
    "  \n",
    "  # 16x16x512 -> 8x8x1024\n",
    "  model.add(Conv2D(1024, kernel_size=5, strides = 2, padding=\"same\", kernel_initializer=tf.compat.v1.truncated_normal_initializer(stddev=WEIGHT_INIT_STDDEV), name = 'Conv_Layer_5'))\n",
    "  model.add(BatchNormalization(epsilon = EPSILON, name = \"Batch_Norm_5\"))\n",
    "  model.add(LeakyReLU(name = 'Leaky_ReLU_5'))\n",
    "  \n",
    "  model.add(Flatten())\n",
    "  model.add(Dense(1, activation = None))\n",
    "  model.add(Activation(\"sigmoid\"))\n",
    "  \n",
    "  print(model.summary())\n",
    "  \n",
    "  #Picturizing model\n",
    "  plot_model(model, to_file='Model Architecture transposed_convolutions/discriminator.png')\n",
    "  \n",
    "  img = Input(shape = img_shape)\n",
    "  validity = model(img)\n",
    "  \n",
    "  return Model(inputs = img, outputs = validity, name = 'Discriminator')"
   ]
  },
  {
   "cell_type": "code",
   "execution_count": 6,
   "metadata": {
    "colab": {
     "base_uri": "https://localhost:8080/",
     "height": 1045
    },
    "colab_type": "code",
    "id": "j4hlF9x9GvGx",
    "outputId": "56842a25-5239-42ad-b8f4-9d06937f1647"
   },
   "outputs": [
    {
     "name": "stdout",
     "output_type": "stream",
     "text": [
      "Model: \"sequential_1\"\n",
      "_________________________________________________________________\n",
      "Layer (type)                 Output Shape              Param #   \n",
      "=================================================================\n",
      "Conv_Layer (Conv2D)          (None, 64, 64, 64)        4864      \n",
      "_________________________________________________________________\n",
      "Batch_Norm (BatchNormalizati (None, 64, 64, 64)        256       \n",
      "_________________________________________________________________\n",
      "Leaky_ReLU (LeakyReLU)       (None, 64, 64, 64)        0         \n",
      "_________________________________________________________________\n",
      "Conv_Layer_2 (Conv2D)        (None, 32, 32, 128)       204928    \n",
      "_________________________________________________________________\n",
      "Batch_Norm_2 (BatchNormaliza (None, 32, 32, 128)       512       \n",
      "_________________________________________________________________\n",
      "Leaky_ReLU_2 (LeakyReLU)     (None, 32, 32, 128)       0         \n",
      "_________________________________________________________________\n",
      "Conv_Layer_3 (Conv2D)        (None, 16, 16, 256)       819456    \n",
      "_________________________________________________________________\n",
      "Batch_Norm_3 (BatchNormaliza (None, 16, 16, 256)       1024      \n",
      "_________________________________________________________________\n",
      "Leaky_ReLU_3 (LeakyReLU)     (None, 16, 16, 256)       0         \n",
      "_________________________________________________________________\n",
      "Conv_Layer_4 (Conv2D)        (None, 16, 16, 512)       3277312   \n",
      "_________________________________________________________________\n",
      "Batch_Norm_4 (BatchNormaliza (None, 16, 16, 512)       2048      \n",
      "_________________________________________________________________\n",
      "Leaky_ReLU_4 (LeakyReLU)     (None, 16, 16, 512)       0         \n",
      "_________________________________________________________________\n",
      "Conv_Layer_5 (Conv2D)        (None, 8, 8, 1024)        13108224  \n",
      "_________________________________________________________________\n",
      "Batch_Norm_5 (BatchNormaliza (None, 8, 8, 1024)        4096      \n",
      "_________________________________________________________________\n",
      "Leaky_ReLU_5 (LeakyReLU)     (None, 8, 8, 1024)        0         \n",
      "_________________________________________________________________\n",
      "flatten (Flatten)            (None, 65536)             0         \n",
      "_________________________________________________________________\n",
      "dense (Dense)                (None, 1)                 65537     \n",
      "_________________________________________________________________\n",
      "activation_1 (Activation)    (None, 1)                 0         \n",
      "=================================================================\n",
      "Total params: 17,488,257\n",
      "Trainable params: 17,484,289\n",
      "Non-trainable params: 3,968\n",
      "_________________________________________________________________\n",
      "None\n",
      "('Failed to import pydot. You must `pip install pydot` and install graphviz (https://graphviz.gitlab.io/download/), ', 'for `pydotprint` to work.')\n",
      "Model: \"Discriminator\"\n",
      "_________________________________________________________________\n",
      "Layer (type)                 Output Shape              Param #   \n",
      "=================================================================\n",
      "input_2 (InputLayer)         [(None, 128, 128, 3)]     0         \n",
      "_________________________________________________________________\n",
      "sequential_1 (Sequential)    (None, 1)                 17488257  \n",
      "=================================================================\n",
      "Total params: 17,488,257\n",
      "Trainable params: 17,484,289\n",
      "Non-trainable params: 3,968\n",
      "_________________________________________________________________\n"
     ]
    }
   ],
   "source": [
    "discriminator = build_discriminator()\n",
    "discriminator.summary()\n",
    "\n",
    "discriminator.compile(loss = 'binary_crossentropy', optimizer = d_opt, metrics = ['accuracy'])"
   ]
  },
  {
   "cell_type": "code",
   "execution_count": 7,
   "metadata": {
    "colab": {
     "base_uri": "https://localhost:8080/",
     "height": 235
    },
    "colab_type": "code",
    "id": "TUsKNEB5GxMN",
    "outputId": "32b1f177-4ee7-4b55-cb7e-56c859fa72a5"
   },
   "outputs": [
    {
     "name": "stdout",
     "output_type": "stream",
     "text": [
      "Model: \"functional_1\"\n",
      "_________________________________________________________________\n",
      "Layer (type)                 Output Shape              Param #   \n",
      "=================================================================\n",
      "Input_Noise (InputLayer)     [(None, 100)]             0         \n",
      "_________________________________________________________________\n",
      "Generator (Functional)       (None, 128, 128, 3)       24036739  \n",
      "_________________________________________________________________\n",
      "Discriminator (Functional)   (None, 1)                 17488257  \n",
      "=================================================================\n",
      "Total params: 41,524,996\n",
      "Trainable params: 24,034,819\n",
      "Non-trainable params: 17,490,177\n",
      "_________________________________________________________________\n",
      "('Failed to import pydot. You must `pip install pydot` and install graphviz (https://graphviz.gitlab.io/download/), ', 'for `pydotprint` to work.')\n"
     ]
    }
   ],
   "source": [
    "z = Input(shape = (noise_shape,), name = \"Input_Noise\")\n",
    "img = generator(z)\n",
    "\n",
    "discriminator.trainable = False\n",
    "valid = discriminator(img)\n",
    "\n",
    "combined = Model(z, valid)\n",
    "combined.compile(loss = 'binary_crossentropy', optimizer = g_opt)\n",
    "combined.summary()\n",
    "\n",
    "#Picturizing model\n",
    "plot_model(combined, to_file='Model Architecture transposed_convolutions/combined.png')"
   ]
  },
  {
   "cell_type": "code",
   "execution_count": 8,
   "metadata": {
    "colab": {
     "base_uri": "https://localhost:8080/",
     "height": 709
    },
    "colab_type": "code",
    "id": "Pmftjb4AJOfT",
    "outputId": "bed42977-2a8b-4506-d9b4-df6ca2c6a4ae"
   },
   "outputs": [
    {
     "name": "stdout",
     "output_type": "stream",
     "text": [
      "Model: \"Generator\"\n",
      "_________________________________________________________________\n",
      "Layer (type)                 Output Shape              Param #   \n",
      "=================================================================\n",
      "input_1 (InputLayer)         [(None, 100)]             0         \n",
      "_________________________________________________________________\n",
      "sequential (Sequential)      (None, 128, 128, 3)       24036739  \n",
      "=================================================================\n",
      "Total params: 24,036,739\n",
      "Trainable params: 24,034,819\n",
      "Non-trainable params: 1,920\n",
      "_________________________________________________________________\n",
      "None\n",
      "Model: \"Discriminator\"\n",
      "_________________________________________________________________\n",
      "Layer (type)                 Output Shape              Param #   \n",
      "=================================================================\n",
      "input_2 (InputLayer)         [(None, 128, 128, 3)]     0         \n",
      "_________________________________________________________________\n",
      "sequential_1 (Sequential)    (None, 1)                 17488257  \n",
      "=================================================================\n",
      "Total params: 17,488,257\n",
      "Trainable params: 0\n",
      "Non-trainable params: 17,488,257\n",
      "_________________________________________________________________\n",
      "None\n",
      "Model: \"functional_1\"\n",
      "_________________________________________________________________\n",
      "Layer (type)                 Output Shape              Param #   \n",
      "=================================================================\n",
      "Input_Noise (InputLayer)     [(None, 100)]             0         \n",
      "_________________________________________________________________\n",
      "Generator (Functional)       (None, 128, 128, 3)       24036739  \n",
      "_________________________________________________________________\n",
      "Discriminator (Functional)   (None, 1)                 17488257  \n",
      "=================================================================\n",
      "Total params: 41,524,996\n",
      "Trainable params: 24,034,819\n",
      "Non-trainable params: 17,490,177\n",
      "_________________________________________________________________\n",
      "None\n"
     ]
    }
   ],
   "source": [
    "print(generator.summary())\n",
    "print(discriminator.summary())\n",
    "print(combined.summary())"
   ]
  },
  {
   "cell_type": "code",
   "execution_count": 9,
   "metadata": {
    "colab": {},
    "colab_type": "code",
    "id": "aYgfpyLQJQWU"
   },
   "outputs": [],
   "source": [
    "def get_batch(width, height):\n",
    "  image_files = os.listdir(\"C:\\\\Users\\\\Tushar\\\\Downloads\\\\DCGAN\\\\content\\\\100k\\\\\")[:40000]\n",
    "  data_batch = []\n",
    "  \n",
    "  for file in image_files:\n",
    "    img = Image.open(\"C:\\\\Users\\\\Tushar\\\\Downloads\\\\DCGAN\\\\content\\\\100k\\\\\"+file).resize([width, height])\n",
    "    data_batch.append(np.array(img.convert('RGB')))\n",
    "    \n",
    "  data_batch = np.array(data_batch)\n",
    "  print(data_batch.shape)\n",
    "  return data_batch"
   ]
  },
  {
   "cell_type": "code",
   "execution_count": 10,
   "metadata": {
    "colab": {},
    "colab_type": "code",
    "id": "GgdvtJifJSPU"
   },
   "outputs": [],
   "source": [
    "def train(batch_size = 128, epochs = 15830):\n",
    "  \n",
    "  \n",
    "  valid = np.ones((batch_size, 1))\n",
    "  fakes = np.zeros((batch_size, 1))\n",
    "  \n",
    "  X_train = get_batch(nw, nh)\n",
    "  X_train = (X_train.astype(np.float32) / 127.5) - 1.0\n",
    "  \n",
    "  #adding noise to input images\n",
    "  for i in range(len(X_train)):\n",
    "    X_train[i] = X_train[i] + np.random.normal(size = X_train[i].shape, loc = 0.0, scale = random.uniform(0.0, 0.1)).astype(np.float32)\n",
    "  \n",
    "  for epoch in range(70000, epochs):\n",
    "    \n",
    "    idx = np.random.randint(0, X_train.shape[0], batch_size)\n",
    "    imgs = X_train[idx]\n",
    "    \n",
    "    noise = np.random.normal(0, 1, (batch_size, noise_shape))\n",
    "    \n",
    "    gen_imgs = generator.predict(noise)\n",
    "\n",
    "    #Training Discriminator\n",
    "    d_loss_real = discriminator.train_on_batch(imgs, valid*random.uniform(0.9, 1.0))\n",
    "    d_loss_fake = discriminator.train_on_batch(gen_imgs, fakes)\n",
    "    d_loss = 0.5*np.add(d_loss_real, d_loss_fake)\n",
    "\n",
    "    #Training Generator\n",
    "    g_loss = combined.train_on_batch(noise, valid)\n",
    "\n",
    "    #Progress\n",
    "    if (epoch+1)%1000 == 0:\n",
    "      print(\"epoch: \" + str(epoch+1) + \" \" + \"D_Loss = \" + str(d_loss[0]) + \" \" + \"acc: \" + str(d_loss[1]*100) + \" \" +  \"G_Loss = \" + str(g_loss))\n",
    "    \n",
    "    if (epoch+1)%10000 == 0 or epoch+1 == 1000:\n",
    "      save_imgs(epoch+1)\n",
    "      generator.save_weights('generator.h5')\n",
    "      discriminator.save_weights('discriminator.h5')"
   ]
  },
  {
   "cell_type": "code",
   "execution_count": null,
   "metadata": {
    "colab": {},
    "colab_type": "code",
    "id": "SRWtENiJKOHR"
   },
   "outputs": [],
   "source": [
    "!mkdir 'images_transposed_convolutions'"
   ]
  },
  {
   "cell_type": "code",
   "execution_count": 11,
   "metadata": {
    "colab": {},
    "colab_type": "code",
    "id": "Ix5Gr85jKP8s"
   },
   "outputs": [],
   "source": [
    "def save_imgs(epoch):\n",
    "  r, c = 3, 3\n",
    "  noise = np.random.normal(0, 1, (r * c, noise_shape))\n",
    "  gen_imgs = generator.predict(noise)\n",
    "\n",
    "  # Rescale images 0 - 1\n",
    "  gen_imgs = (1/2.5) * gen_imgs + 0.5\n",
    "  \n",
    "  fig, axs = plt.subplots(r, c)\n",
    "  cnt = 0\n",
    "  for i in range(r):\n",
    "      for j in range(c):\n",
    "          axs[i,j].imshow(gen_imgs[cnt, :,:,:])\n",
    "          axs[i,j].axis('off')\n",
    "          cnt += 1\n",
    "  fig.savefig(\"images_transposed_convolutions/%d.png\" % epoch)\n",
    "  plt.close()"
   ]
  },
  {
   "cell_type": "code",
   "execution_count": null,
   "metadata": {
    "colab": {},
    "colab_type": "code",
    "id": "I0_VyXpMKRbU"
   },
   "outputs": [],
   "source": [
    "#generator.load_weights('generator.h5')\n",
    "#discriminator.load_weights('discriminator.h5')"
   ]
  },
  {
   "cell_type": "code",
   "execution_count": 12,
   "metadata": {
    "colab": {
     "base_uri": "https://localhost:8080/",
     "height": 8962
    },
    "colab_type": "code",
    "id": "tHO9ZhemKTR8",
    "outputId": "92ebf850-b4e1-4e13-9b3b-f7553646ec1d"
   },
   "outputs": [
    {
     "name": "stdout",
     "output_type": "stream",
     "text": [
      "(40000, 128, 128, 3)\n"
     ]
    }
   ],
   "source": [
    "train(64, 100)"
   ]
  },
  {
   "cell_type": "code",
   "execution_count": 13,
   "metadata": {
    "colab": {},
    "colab_type": "code",
    "id": "p85i6Zpz7f8n"
   },
   "outputs": [],
   "source": [
    "generator.save_weights('generator5.h5')\n",
    "discriminator.save_weights('discriminator5.h5')"
   ]
  },
  {
   "cell_type": "markdown",
   "metadata": {
    "colab_type": "text",
    "id": "nBdT1NgAKigt"
   },
   "source": [
    "# Generating Images"
   ]
  },
  {
   "cell_type": "code",
   "execution_count": 14,
   "metadata": {
    "colab": {},
    "colab_type": "code",
    "id": "QFYdbZV6KjV9"
   },
   "outputs": [],
   "source": [
    "save_imgs(100)"
   ]
  },
  {
   "cell_type": "code",
   "execution_count": 15,
   "metadata": {
    "colab": {},
    "colab_type": "code",
    "id": "yPOiUz29Knd3"
   },
   "outputs": [
    {
     "data": {
      "text/plain": [
       "<matplotlib.image.AxesImage at 0x2971ff87e80>"
      ]
     },
     "execution_count": 15,
     "metadata": {},
     "output_type": "execute_result"
    },
    {
     "data": {
      "image/png": "[encoded data removed]",
      "text/plain": [
       "<Figure size 432x288 with 1 Axes>"
      ]
     },
     "metadata": {
      "needs_background": "light"
     },
     "output_type": "display_data"
    }
   ],
   "source": [
    "noise = np.random.normal(0, 1, (1, noise_shape))\n",
    "gen_imgs = generator.predict(noise)\n",
    "gen_imgs = gen_imgs*(1/2.5) + 0.5\n",
    "\n",
    "plt.imshow(gen_imgs.reshape((128 , 128, 3)))"
   ]
  },
  {
   "cell_type": "code",
   "execution_count": null,
   "metadata": {
    "colab": {},
    "colab_type": "code",
    "id": "nJ1HiS37Ko-G"
   },
   "outputs": [],
   "source": [
    "generator.save_weights('generator.h5')\n",
    "discriminator.save_weights('discriminator.h5')"
   ]
  }
 ],
 "metadata": {
  "accelerator": "GPU",
  "colab": {
   "name": "DC_GANs_for_3_channel_images_with_Transposed_Convolutions.ipynb",
   "provenance": [],
   "toc_visible": true,
   "version": "0.3.2"
  },
  "kernelspec": {
   "display_name": "Python 3",
   "language": "python",
   "name": "python3"
  },
  "language_info": {
   "codemirror_mode": {
    "name": "ipython",
    "version": 3
   },
   "file_extension": ".py",
   "mimetype": "text/x-python",
   "name": "python",
   "nbconvert_exporter": "python",
   "pygments_lexer": "ipython3",
   "version": "3.8.8"
  }
 },
 "nbformat": 4,
 "nbformat_minor": 1
}
