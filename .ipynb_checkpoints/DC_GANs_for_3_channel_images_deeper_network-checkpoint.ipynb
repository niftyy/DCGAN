{
 "cells": [
  {
   "cell_type": "markdown",
   "metadata": {
    "colab_type": "text",
    "id": "e-bS75jG2XwW"
   },
   "source": [
    "# Building Model and Training"
   ]
  },
  {
   "cell_type": "code",
   "execution_count": 47,
   "metadata": {
    "colab": {},
    "colab_type": "code",
    "id": "w1IStnHTXPXB"
   },
   "outputs": [
    {
     "name": "stderr",
     "output_type": "stream",
     "text": [
      "A subdirectory or file 'Model already exists.\n",
      "Error occurred while processing: 'Model.\n",
      "A subdirectory or file Architecture already exists.\n",
      "Error occurred while processing: Architecture.\n",
      "A subdirectory or file images_deeper_network' already exists.\n",
      "Error occurred while processing: images_deeper_network'.\n"
     ]
    }
   ],
   "source": [
    "!mkdir 'Model Architecture images_deeper_network'"
   ]
  },
  {
   "cell_type": "code",
   "execution_count": 4,
   "metadata": {
    "colab": {
     "base_uri": "https://localhost:8080/",
     "height": 34
    },
    "colab_type": "code",
    "id": "FS-Fe5h42Php",
    "outputId": "1c9063b2-10f0-4800-ee26-1dd822e65f06"
   },
   "outputs": [],
   "source": [
    "from __future__ import print_function, division\n",
    "\n",
    "import tensorflow as tf\n",
    "from tensorflow.keras.layers import Dense, Dropout, Flatten, Reshape, Input, BatchNormalization, Activation, ZeroPadding2D, MaxPooling2D, AveragePooling2D\n",
    "from tensorflow.keras.layers import LeakyReLU\n",
    "from tensorflow.keras.layers import UpSampling2D, Conv2D\n",
    "from tensorflow.keras.models import Model, Sequential\n",
    "from tensorflow.keras.optimizers import Adam\n",
    "from PIL import Image\n",
    "from keras.utils import plot_model\n",
    "from numpy import random\n",
    "\n",
    "import matplotlib.pyplot as plt\n",
    "import numpy as np\n",
    "import sys\n",
    "import os as os"
   ]
  },
  {
   "cell_type": "code",
   "execution_count": 5,
   "metadata": {
    "colab": {},
    "colab_type": "code",
    "id": "BJdEXvLC2kzo"
   },
   "outputs": [],
   "source": [
    "noise_shape = 100\n",
    "nh = 64\n",
    "nw = 64\n",
    "nc = 3\n",
    "img_shape = (nh, nw, nc)\n",
    "\n",
    "# Carefully chosen parameters \n",
    "d_opt = Adam(lr = 0.00004, beta_1 = 0.5)\n",
    "g_opt = Adam(lr = 0.0002, beta_1 = 0.5)"
   ]
  },
  {
   "cell_type": "code",
   "execution_count": 6,
   "metadata": {
    "colab": {},
    "colab_type": "code",
    "id": "GeyQN08j3F1B"
   },
   "outputs": [],
   "source": [
    "def build_generator():\n",
    "  \n",
    "  model = Sequential()\n",
    "  model.add(Dense(128 * 4 * 4, input_dim = noise_shape, name = 'Dense_Layer'))\n",
    "  model.add(LeakyReLU(alpha=0.2, name = 'Leaky_ReLU_Dense'))\n",
    "  model.add(Reshape((4, 4, 128) , name = \"Reshape_Layer\"))\n",
    "  \n",
    "  #\n",
    "  model.add(Conv2D(128, kernel_size=3,  padding=\"same\", name = \"Conv_Layer\"))\n",
    "  model.add(LeakyReLU(alpha=0.2, name = 'Leaky_ReLU'))\n",
    "  model.add(BatchNormalization(momentum=0.8, name = \"Batch_Norm\"))\n",
    "  #\n",
    "  \n",
    "  model.add(UpSampling2D(name = 'UpSampling_Layer_2'))\n",
    "  model.add(Conv2D(64, kernel_size=3,  padding=\"same\", name = \"Conv_Layer_2\"))\n",
    "  model.add(LeakyReLU(alpha=0.2, name = 'Leaky_ReLU_2'))\n",
    "  model.add(BatchNormalization(momentum=0.8, name = \"Batch_Norm_2\"))\n",
    "  \n",
    "  model.add(UpSampling2D(name = 'UpSampling_Layer_3'))\n",
    "  model.add(Conv2D(32, kernel_size=3, padding=\"same\", name = 'Conv_Layer_3'))\n",
    "  model.add(LeakyReLU(alpha=0.2, name = 'Leaky_ReLU_3'))\n",
    "  model.add(BatchNormalization(momentum=0.8, name = 'Batch_Norm_3'))\n",
    "  \n",
    "  model.add(UpSampling2D(name = 'UpSampling_Layer_4'))\n",
    "  model.add(Conv2D(16, kernel_size=3, padding=\"same\", name = 'Conv_Layer_4'))\n",
    "  model.add(LeakyReLU(alpha=0.2, name = 'Leaky_ReLU_4'))\n",
    "  model.add(BatchNormalization(momentum=0.8, name = 'Batch_Norm_4'))\n",
    "  \n",
    "  model.add(UpSampling2D(name = 'UpSampling_Layer_5'))\n",
    "  model.add(Conv2D(8, kernel_size=3, padding=\"same\", name = 'Conv_Layer_5'))\n",
    "  model.add(LeakyReLU(alpha=0.2, name = 'Leaky_ReLU_5'))\n",
    "  model.add(BatchNormalization(momentum=0.8, name = 'Batch_Norm_5'))\n",
    "  \n",
    "  model.add(Conv2D(4, kernel_size=3, padding=\"same\", name = 'Conv_Layer_6'))\n",
    "  model.add(LeakyReLU(alpha=0.2, name = 'Leaky_ReLU_6'))\n",
    "  model.add(BatchNormalization(momentum=0.8, name = 'Batch_Norm_6'))\n",
    "  \n",
    "  model.add(Conv2D(3, kernel_size=3, padding=\"same\", name = 'Conv_Layer_7'))\n",
    "  model.add(LeakyReLU(alpha=0.2, name = 'Leaky_ReLU_7'))\n",
    "  model.add(BatchNormalization(momentum=0.8, name = 'Batch_Norm_7'))\n",
    "  model.add(Activation(\"tanh\"))\n",
    "   \n",
    "  print(model.summary())\n",
    "  \n",
    "  #Picturizing model\n",
    "  plot_model(model, to_file='Model Architecture images_deeper_network/generator.png')\n",
    "  \n",
    "  noise = Input(shape = (noise_shape,))\n",
    "  img = model(noise)\n",
    "  \n",
    "  return Model(inputs = noise, outputs = img, name = \"Generator\")\n",
    "  "
   ]
  },
  {
   "cell_type": "code",
   "execution_count": 11,
   "metadata": {
    "colab": {
     "base_uri": "https://localhost:8080/",
     "height": 1582
    },
    "colab_type": "code",
    "id": "O6QaylpG3swT",
    "outputId": "dda7bb98-6690-430a-e8c1-400cab1f5ea0"
   },
   "outputs": [
    {
     "name": "stdout",
     "output_type": "stream",
     "text": [
      "Model: \"sequential_1\"\n",
      "_________________________________________________________________\n",
      "Layer (type)                 Output Shape              Param #   \n",
      "=================================================================\n",
      "Dense_Layer (Dense)          (None, 2048)              206848    \n",
      "_________________________________________________________________\n",
      "Leaky_ReLU_Dense (LeakyReLU) (None, 2048)              0         \n",
      "_________________________________________________________________\n",
      "Reshape_Layer (Reshape)      (None, 4, 4, 128)         0         \n",
      "_________________________________________________________________\n",
      "Conv_Layer (Conv2D)          (None, 4, 4, 128)         147584    \n",
      "_________________________________________________________________\n",
      "Leaky_ReLU (LeakyReLU)       (None, 4, 4, 128)         0         \n",
      "_________________________________________________________________\n",
      "Batch_Norm (BatchNormalizati (None, 4, 4, 128)         512       \n",
      "_________________________________________________________________\n",
      "UpSampling_Layer_2 (UpSampli (None, 8, 8, 128)         0         \n",
      "_________________________________________________________________\n",
      "Conv_Layer_2 (Conv2D)        (None, 8, 8, 64)          73792     \n",
      "_________________________________________________________________\n",
      "Leaky_ReLU_2 (LeakyReLU)     (None, 8, 8, 64)          0         \n",
      "_________________________________________________________________\n",
      "Batch_Norm_2 (BatchNormaliza (None, 8, 8, 64)          256       \n",
      "_________________________________________________________________\n",
      "UpSampling_Layer_3 (UpSampli (None, 16, 16, 64)        0         \n",
      "_________________________________________________________________\n",
      "Conv_Layer_3 (Conv2D)        (None, 16, 16, 32)        18464     \n",
      "_________________________________________________________________\n",
      "Leaky_ReLU_3 (LeakyReLU)     (None, 16, 16, 32)        0         \n",
      "_________________________________________________________________\n",
      "Batch_Norm_3 (BatchNormaliza (None, 16, 16, 32)        128       \n",
      "_________________________________________________________________\n",
      "UpSampling_Layer_4 (UpSampli (None, 32, 32, 32)        0         \n",
      "_________________________________________________________________\n",
      "Conv_Layer_4 (Conv2D)        (None, 32, 32, 16)        4624      \n",
      "_________________________________________________________________\n",
      "Leaky_ReLU_4 (LeakyReLU)     (None, 32, 32, 16)        0         \n",
      "_________________________________________________________________\n",
      "Batch_Norm_4 (BatchNormaliza (None, 32, 32, 16)        64        \n",
      "_________________________________________________________________\n",
      "UpSampling_Layer_5 (UpSampli (None, 64, 64, 16)        0         \n",
      "_________________________________________________________________\n",
      "Conv_Layer_5 (Conv2D)        (None, 64, 64, 8)         1160      \n",
      "_________________________________________________________________\n",
      "Leaky_ReLU_5 (LeakyReLU)     (None, 64, 64, 8)         0         \n",
      "_________________________________________________________________\n",
      "Batch_Norm_5 (BatchNormaliza (None, 64, 64, 8)         32        \n",
      "_________________________________________________________________\n",
      "Conv_Layer_6 (Conv2D)        (None, 64, 64, 4)         292       \n",
      "_________________________________________________________________\n",
      "Leaky_ReLU_6 (LeakyReLU)     (None, 64, 64, 4)         0         \n",
      "_________________________________________________________________\n",
      "Batch_Norm_6 (BatchNormaliza (None, 64, 64, 4)         16        \n",
      "_________________________________________________________________\n",
      "Conv_Layer_7 (Conv2D)        (None, 64, 64, 3)         111       \n",
      "_________________________________________________________________\n",
      "Leaky_ReLU_7 (LeakyReLU)     (None, 64, 64, 3)         0         \n",
      "_________________________________________________________________\n",
      "Batch_Norm_7 (BatchNormaliza (None, 64, 64, 3)         12        \n",
      "_________________________________________________________________\n",
      "activation (Activation)      (None, 64, 64, 3)         0         \n",
      "=================================================================\n",
      "Total params: 453,895\n",
      "Trainable params: 453,385\n",
      "Non-trainable params: 510\n",
      "_________________________________________________________________\n",
      "None\n",
      "('Failed to import pydot. You must `pip install pydot` and install graphviz (https://graphviz.gitlab.io/download/), ', 'for `pydotprint` to work.')\n",
      "Model: \"Generator\"\n",
      "_________________________________________________________________\n",
      "Layer (type)                 Output Shape              Param #   \n",
      "=================================================================\n",
      "input_2 (InputLayer)         [(None, 100)]             0         \n",
      "_________________________________________________________________\n",
      "sequential_1 (Sequential)    (None, 64, 64, 3)         453895    \n",
      "=================================================================\n",
      "Total params: 453,895\n",
      "Trainable params: 453,385\n",
      "Non-trainable params: 510\n",
      "_________________________________________________________________\n"
     ]
    }
   ],
   "source": [
    "generator = build_generator()\n",
    "generator.summary()"
   ]
  },
  {
   "cell_type": "code",
   "execution_count": 12,
   "metadata": {
    "colab": {},
    "colab_type": "code",
    "id": "EwqnDYfm3uXu"
   },
   "outputs": [],
   "source": [
    "def build_discriminator():\n",
    "  model = Sequential()\n",
    "  \n",
    "  model.add(Conv2D(4, kernel_size=3, input_shape = img_shape, padding=\"same\", name = 'Conv_Layer'))\n",
    "  model.add(LeakyReLU(alpha=0.2, name = 'Leaky_ReLU'))\n",
    "  model.add(BatchNormalization(momentum=0.8, name = 'Batch_Norm'))\n",
    "  \n",
    "  model.add(Conv2D(8, kernel_size=3, strides = 2, name = 'Conv_Layer_2'))\n",
    "  model.add(LeakyReLU(alpha=0.2, name = 'Leaky_ReLU_2'))\n",
    "  model.add(BatchNormalization(momentum=0.8, name = 'Batch_Norm_2'))\n",
    "  \n",
    "  model.add(Conv2D(16, kernel_size=3, strides = 2, name = 'Conv_Layer_3'))\n",
    "  model.add(LeakyReLU(alpha=0.2, name = 'Leaky_ReLU_3'))\n",
    "  model.add(BatchNormalization(momentum=0.8, name = 'Batch_Norm_3'))\n",
    "  \n",
    "  model.add(Conv2D(32, kernel_size=3, strides = 2, name = 'Conv_Layer_4'))\n",
    "  model.add(LeakyReLU(alpha=0.2, name = 'Leaky_ReLU_4'))\n",
    "  model.add(BatchNormalization(momentum=0.8, name = 'Batch_Norm_4'))\n",
    "  \n",
    "  model.add(Conv2D(64, kernel_size=2, strides = 1, name = 'Conv_Layer_5'))\n",
    "  model.add(LeakyReLU(alpha=0.2, name = 'Leaky_ReLU_5'))\n",
    "  model.add(BatchNormalization(momentum=0.8, name = 'Batch_Norm_5'))\n",
    "  \n",
    "  #\n",
    "  model.add(Conv2D(128, kernel_size=2, strides = 1, name = 'Conv_Layer_6'))\n",
    "  model.add(LeakyReLU(alpha=0.2, name = 'Leaky_ReLU_6'))\n",
    "  model.add(BatchNormalization(momentum=0.8, name = 'Batch_Norm_6'))\n",
    "  #\n",
    "  \n",
    "  model.add(Flatten(name = 'Flatten'))\n",
    "  model.add(Dense(512, name = 'Dense_Layer'))\n",
    "  model.add(LeakyReLU(alpha=0.2, name = 'Leaky_ReLU_7'))\n",
    "  \n",
    "  model.add(Dense(256, name = 'Dense_Layer_2'))\n",
    "  model.add(LeakyReLU(alpha=0.2, name = 'Leaky_ReLU_8'))\n",
    "  model.add(Dense(1, activation='sigmoid', name = 'Dense_with_Sigmoid'))\n",
    "  \n",
    "  print(model.summary())\n",
    "  \n",
    "  #Picturizing model\n",
    "  plot_model(model, to_file='Model Architecture images_deeper_network/discriminator.png')\n",
    "  \n",
    "  img = Input(shape = img_shape)\n",
    "  validity = model(img)\n",
    "  \n",
    "  return Model(inputs = img, outputs = validity, name = 'Discriminator')"
   ]
  },
  {
   "cell_type": "code",
   "execution_count": 10,
   "metadata": {
    "colab": {
     "base_uri": "https://localhost:8080/",
     "height": 1246
    },
    "colab_type": "code",
    "id": "SwqJneJS5Wpi",
    "outputId": "e0ed7db7-fb22-46c0-9cbe-10150073bb2f"
   },
   "outputs": [
    {
     "name": "stdout",
     "output_type": "stream",
     "text": [
      "Model: \"sequential\"\n",
      "_________________________________________________________________\n",
      "Layer (type)                 Output Shape              Param #   \n",
      "=================================================================\n",
      "Conv_Layer (Conv2D)          (None, 64, 64, 4)         112       \n",
      "_________________________________________________________________\n",
      "Leaky_ReLU (LeakyReLU)       (None, 64, 64, 4)         0         \n",
      "_________________________________________________________________\n",
      "Batch_Norm (BatchNormalizati (None, 64, 64, 4)         16        \n",
      "_________________________________________________________________\n",
      "Conv_Layer_2 (Conv2D)        (None, 31, 31, 8)         296       \n",
      "_________________________________________________________________\n",
      "Leaky_ReLU_2 (LeakyReLU)     (None, 31, 31, 8)         0         \n",
      "_________________________________________________________________\n",
      "Batch_Norm_2 (BatchNormaliza (None, 31, 31, 8)         32        \n",
      "_________________________________________________________________\n",
      "Conv_Layer_3 (Conv2D)        (None, 15, 15, 16)        1168      \n",
      "_________________________________________________________________\n",
      "Leaky_ReLU_3 (LeakyReLU)     (None, 15, 15, 16)        0         \n",
      "_________________________________________________________________\n",
      "Batch_Norm_3 (BatchNormaliza (None, 15, 15, 16)        64        \n",
      "_________________________________________________________________\n",
      "Conv_Layer_4 (Conv2D)        (None, 7, 7, 32)          4640      \n",
      "_________________________________________________________________\n",
      "Leaky_ReLU_4 (LeakyReLU)     (None, 7, 7, 32)          0         \n",
      "_________________________________________________________________\n",
      "Batch_Norm_4 (BatchNormaliza (None, 7, 7, 32)          128       \n",
      "_________________________________________________________________\n",
      "Conv_Layer_5 (Conv2D)        (None, 6, 6, 64)          8256      \n",
      "_________________________________________________________________\n",
      "Leaky_ReLU_5 (LeakyReLU)     (None, 6, 6, 64)          0         \n",
      "_________________________________________________________________\n",
      "Batch_Norm_5 (BatchNormaliza (None, 6, 6, 64)          256       \n",
      "_________________________________________________________________\n",
      "Conv_Layer_6 (Conv2D)        (None, 5, 5, 128)         32896     \n",
      "_________________________________________________________________\n",
      "Leaky_ReLU_6 (LeakyReLU)     (None, 5, 5, 128)         0         \n",
      "_________________________________________________________________\n",
      "Batch_Norm_6 (BatchNormaliza (None, 5, 5, 128)         512       \n",
      "_________________________________________________________________\n",
      "Flatten (Flatten)            (None, 3200)              0         \n",
      "_________________________________________________________________\n",
      "Dense_Layer (Dense)          (None, 512)               1638912   \n",
      "_________________________________________________________________\n",
      "Leaky_ReLU_7 (LeakyReLU)     (None, 512)               0         \n",
      "_________________________________________________________________\n",
      "Dense_Layer_2 (Dense)        (None, 256)               131328    \n",
      "_________________________________________________________________\n",
      "Leaky_ReLU_8 (LeakyReLU)     (None, 256)               0         \n",
      "_________________________________________________________________\n",
      "Dense_with_Sigmoid (Dense)   (None, 1)                 257       \n",
      "=================================================================\n",
      "Total params: 1,818,873\n",
      "Trainable params: 1,818,369\n",
      "Non-trainable params: 504\n",
      "_________________________________________________________________\n",
      "None\n",
      "('Failed to import pydot. You must `pip install pydot` and install graphviz (https://graphviz.gitlab.io/download/), ', 'for `pydotprint` to work.')\n",
      "Model: \"Discriminator\"\n",
      "_________________________________________________________________\n",
      "Layer (type)                 Output Shape              Param #   \n",
      "=================================================================\n",
      "input_1 (InputLayer)         [(None, 64, 64, 3)]       0         \n",
      "_________________________________________________________________\n",
      "sequential (Sequential)      (None, 1)                 1818873   \n",
      "=================================================================\n",
      "Total params: 1,818,873\n",
      "Trainable params: 1,818,369\n",
      "Non-trainable params: 504\n",
      "_________________________________________________________________\n"
     ]
    }
   ],
   "source": [
    "discriminator = build_discriminator()\n",
    "discriminator.summary()\n",
    "\n",
    "discriminator.compile(loss = 'binary_crossentropy', optimizer = d_opt, metrics = ['accuracy'])"
   ]
  },
  {
   "cell_type": "code",
   "execution_count": 13,
   "metadata": {
    "colab": {
     "base_uri": "https://localhost:8080/",
     "height": 235
    },
    "colab_type": "code",
    "id": "x8NZedcg5W4P",
    "outputId": "b2e423a8-a9bd-4637-dc6e-d175c134e8b6"
   },
   "outputs": [
    {
     "name": "stdout",
     "output_type": "stream",
     "text": [
      "Model: \"functional_1\"\n",
      "_________________________________________________________________\n",
      "Layer (type)                 Output Shape              Param #   \n",
      "=================================================================\n",
      "Input_Noise (InputLayer)     [(None, 100)]             0         \n",
      "_________________________________________________________________\n",
      "Generator (Functional)       (None, 64, 64, 3)         453895    \n",
      "_________________________________________________________________\n",
      "Discriminator (Functional)   (None, 1)                 1818873   \n",
      "=================================================================\n",
      "Total params: 2,272,768\n",
      "Trainable params: 453,385\n",
      "Non-trainable params: 1,819,383\n",
      "_________________________________________________________________\n",
      "('Failed to import pydot. You must `pip install pydot` and install graphviz (https://graphviz.gitlab.io/download/), ', 'for `pydotprint` to work.')\n"
     ]
    }
   ],
   "source": [
    "z = Input(shape = (noise_shape,), name = \"Input_Noise\")\n",
    "img = generator(z)\n",
    "\n",
    "discriminator.trainable = False\n",
    "valid = discriminator(img)\n",
    "\n",
    "combined = Model(z, valid)\n",
    "combined.compile(loss = 'binary_crossentropy', optimizer = g_opt)\n",
    "combined.summary()\n",
    "\n",
    "#Picturizing model\n",
    "plot_model(combined, to_file='Model Architecture images_deeper_network/combined.png')"
   ]
  },
  {
   "cell_type": "code",
   "execution_count": 14,
   "metadata": {
    "colab": {
     "base_uri": "https://localhost:8080/",
     "height": 709
    },
    "colab_type": "code",
    "id": "OpHkFPDy5cTP",
    "outputId": "0138e40f-05b3-440b-ca2b-2ea9cdc78a09"
   },
   "outputs": [
    {
     "name": "stdout",
     "output_type": "stream",
     "text": [
      "Model: \"Generator\"\n",
      "_________________________________________________________________\n",
      "Layer (type)                 Output Shape              Param #   \n",
      "=================================================================\n",
      "input_2 (InputLayer)         [(None, 100)]             0         \n",
      "_________________________________________________________________\n",
      "sequential_1 (Sequential)    (None, 64, 64, 3)         453895    \n",
      "=================================================================\n",
      "Total params: 453,895\n",
      "Trainable params: 453,385\n",
      "Non-trainable params: 510\n",
      "_________________________________________________________________\n",
      "None\n",
      "Model: \"Discriminator\"\n",
      "_________________________________________________________________\n",
      "Layer (type)                 Output Shape              Param #   \n",
      "=================================================================\n",
      "input_1 (InputLayer)         [(None, 64, 64, 3)]       0         \n",
      "_________________________________________________________________\n",
      "sequential (Sequential)      (None, 1)                 1818873   \n",
      "=================================================================\n",
      "Total params: 1,818,873\n",
      "Trainable params: 0\n",
      "Non-trainable params: 1,818,873\n",
      "_________________________________________________________________\n",
      "None\n",
      "Model: \"functional_1\"\n",
      "_________________________________________________________________\n",
      "Layer (type)                 Output Shape              Param #   \n",
      "=================================================================\n",
      "Input_Noise (InputLayer)     [(None, 100)]             0         \n",
      "_________________________________________________________________\n",
      "Generator (Functional)       (None, 64, 64, 3)         453895    \n",
      "_________________________________________________________________\n",
      "Discriminator (Functional)   (None, 1)                 1818873   \n",
      "=================================================================\n",
      "Total params: 2,272,768\n",
      "Trainable params: 453,385\n",
      "Non-trainable params: 1,819,383\n",
      "_________________________________________________________________\n",
      "None\n"
     ]
    }
   ],
   "source": [
    "print(generator.summary())\n",
    "print(discriminator.summary())\n",
    "print(combined.summary())"
   ]
  },
  {
   "cell_type": "code",
   "execution_count": 15,
   "metadata": {
    "colab": {},
    "colab_type": "code",
    "id": "xiYeYnjHIdQ4"
   },
   "outputs": [],
   "source": [
    "def get_batch(width, height):\n",
    "  image_files = os.listdir('C:\\\\Users\\\\Tushar\\\\Downloads\\\\DCGAN\\\\content\\\\100k\\\\')\n",
    "  data_batch = []\n",
    "  \n",
    "  for file in image_files:\n",
    "    img = Image.open('C:\\\\Users\\\\Tushar\\\\Downloads\\\\DCGAN\\\\content\\\\100k\\\\'+file).resize([width, height])\n",
    "    data_batch.append(np.array(img.convert('RGB')))\n",
    "    \n",
    "  data_batch = np.array(data_batch)\n",
    "  print(data_batch.shape)\n",
    "  return data_batch"
   ]
  },
  {
   "cell_type": "code",
   "execution_count": 16,
   "metadata": {
    "colab": {},
    "colab_type": "code",
    "id": "xYiMGq1g5dwP"
   },
   "outputs": [],
   "source": [
    "def train(batch_size = 128, epochs = 15830):\n",
    "  \n",
    "  \n",
    "  valid = np.ones((batch_size, 1))\n",
    "  fakes = np.zeros((batch_size, 1))\n",
    "  \n",
    "  X_train = get_batch(nw, nh)\n",
    "  X_train = (X_train.astype(np.float32) - 127.5) / 127.5\n",
    "  \n",
    "  for epoch in range(epochs):\n",
    "    \n",
    "    idx = np.random.randint(0, X_train.shape[0], batch_size)\n",
    "    imgs = X_train[idx]\n",
    "    \n",
    "    noise = np.random.normal(0, 1, (batch_size, noise_shape))\n",
    "    \n",
    "    gen_imgs = generator.predict(noise)\n",
    "\n",
    "    #Training Discriminator\n",
    "    d_loss_real = discriminator.train_on_batch(imgs, valid)\n",
    "    d_loss_fake = discriminator.train_on_batch(gen_imgs, fakes)\n",
    "    d_loss = 0.5*np.add(d_loss_real, d_loss_fake)\n",
    "\n",
    "    #Training Generator\n",
    "    g_loss = combined.train_on_batch(noise, valid)\n",
    "\n",
    "    #Progress\n",
    "    \n",
    "    print(\"epoch: \" + str(epoch+1) + \" \" + \"D_Loss = \" + str(d_loss[0]) + \" \" + \"acc: \" + str(d_loss[1]*100) + \" \" +  \"G_Loss = \" + str(g_loss))\n",
    "    \n",
    "    if (epoch+1)%10000 == 0 or epoch+1 == 1000:\n",
    "      save_imgs(epoch+1)"
   ]
  },
  {
   "cell_type": "code",
   "execution_count": 93,
   "metadata": {
    "colab": {},
    "colab_type": "code",
    "id": "lt-S5cnid3TL"
   },
   "outputs": [
    {
     "name": "stderr",
     "output_type": "stream",
     "text": [
      "A subdirectory or file 'images_deeper_network' already exists.\n"
     ]
    }
   ],
   "source": [
    "!mkdir 'images_deeper_network'"
   ]
  },
  {
   "cell_type": "code",
   "execution_count": 17,
   "metadata": {
    "colab": {},
    "colab_type": "code",
    "id": "hoM_y_iS9hoL"
   },
   "outputs": [],
   "source": [
    "def save_imgs(epoch):\n",
    "  r, c = 3, 3\n",
    "  noise = np.random.normal(0, 1, (r * c, noise_shape))\n",
    "  gen_imgs = generator.predict(noise)\n",
    "\n",
    "  # Rescale images 0 - 1\n",
    "  gen_imgs = (1/2.5) * gen_imgs + 0.5\n",
    "  \n",
    "  fig, axs = plt.subplots(r, c)\n",
    "  cnt = 0\n",
    "  for i in range(r):\n",
    "      for j in range(c):\n",
    "          axs[i,j].imshow(gen_imgs[cnt, :,:,:])\n",
    "          axs[i,j].axis('off')\n",
    "          cnt += 1\n",
    "  fig.savefig(\"images_deeper_network/%d.png\" % epoch)\n",
    "  plt.close()"
   ]
  },
  {
   "cell_type": "code",
   "execution_count": 19,
   "metadata": {
    "colab": {
     "base_uri": "https://localhost:8080/",
     "height": 8538
    },
    "colab_type": "code",
    "id": "lWNd6a2hCHH6",
    "outputId": "4bd69f42-2baa-411a-d562-2a8539759e22",
    "scrolled": true
   },
   "outputs": [
    {
     "name": "stdout",
     "output_type": "stream",
     "text": [
      "(100000, 64, 64, 3)\n",
      "epoch: 1 D_Loss = 1.0126607418060303 acc: 50.390625 G_Loss = 0.7438689470291138\n",
      "epoch: 2 D_Loss = 0.8835397064685822 acc: 53.125 G_Loss = 0.7963941097259521\n",
      "epoch: 3 D_Loss = 0.6900207251310349 acc: 61.328125 G_Loss = 0.8925079107284546\n",
      "epoch: 4 D_Loss = 0.5574620068073273 acc: 72.265625 G_Loss = 0.9982408285140991\n",
      "epoch: 5 D_Loss = 0.49425166845321655 acc: 76.5625 G_Loss = 1.1688711643218994\n",
      "epoch: 6 D_Loss = 0.44037921726703644 acc: 84.375 G_Loss = 1.3995120525360107\n",
      "epoch: 7 D_Loss = 0.3742879331111908 acc: 89.0625 G_Loss = 1.7128993272781372\n",
      "epoch: 8 D_Loss = 0.33857204020023346 acc: 91.015625 G_Loss = 1.8962358236312866\n",
      "epoch: 9 D_Loss = 0.3591405302286148 acc: 86.328125 G_Loss = 2.0380055904388428\n",
      "epoch: 10 D_Loss = 0.3308088779449463 acc: 91.40625 G_Loss = 2.332277774810791\n",
      "epoch: 11 D_Loss = 0.28912824392318726 acc: 91.015625 G_Loss = 2.360678195953369\n",
      "epoch: 12 D_Loss = 0.3092055320739746 acc: 87.890625 G_Loss = 2.5532429218292236\n",
      "epoch: 13 D_Loss = 0.2921646684408188 acc: 91.796875 G_Loss = 2.3258004188537598\n",
      "epoch: 14 D_Loss = 0.28523993492126465 acc: 92.578125 G_Loss = 2.21979022026062\n",
      "epoch: 15 D_Loss = 0.27929525822401047 acc: 92.96875 G_Loss = 2.294297218322754\n",
      "epoch: 16 D_Loss = 0.2590341120958328 acc: 93.75 G_Loss = 2.148662567138672\n",
      "epoch: 17 D_Loss = 0.29543742537498474 acc: 91.015625 G_Loss = 2.2080368995666504\n",
      "epoch: 18 D_Loss = 0.28037429600954056 acc: 91.40625 G_Loss = 2.0942916870117188\n",
      "epoch: 19 D_Loss = 0.27565575391054153 acc: 92.1875 G_Loss = 2.025961399078369\n",
      "epoch: 20 D_Loss = 0.25633881986141205 acc: 89.0625 G_Loss = 2.1339645385742188\n",
      "epoch: 21 D_Loss = 0.28033141791820526 acc: 91.015625 G_Loss = 2.047177314758301\n",
      "epoch: 22 D_Loss = 0.3160875737667084 acc: 90.234375 G_Loss = 1.9791737794876099\n",
      "epoch: 23 D_Loss = 0.265736848115921 acc: 91.40625 G_Loss = 2.0241966247558594\n",
      "epoch: 24 D_Loss = 0.21684662997722626 acc: 93.359375 G_Loss = 2.152848482131958\n",
      "epoch: 25 D_Loss = 0.22831787914037704 acc: 94.140625 G_Loss = 2.2771618366241455\n",
      "epoch: 26 D_Loss = 0.2547597214579582 acc: 91.796875 G_Loss = 2.011202096939087\n",
      "epoch: 27 D_Loss = 0.2194543480873108 acc: 92.96875 G_Loss = 2.219029426574707\n",
      "epoch: 28 D_Loss = 0.26375530660152435 acc: 92.96875 G_Loss = 1.9430526494979858\n",
      "epoch: 29 D_Loss = 0.24252742528915405 acc: 91.796875 G_Loss = 2.203263998031616\n",
      "epoch: 30 D_Loss = 0.19935627281665802 acc: 95.703125 G_Loss = 2.272677183151245\n",
      "epoch: 31 D_Loss = 0.24910464137792587 acc: 94.53125 G_Loss = 2.175858974456787\n",
      "epoch: 32 D_Loss = 0.21194054186344147 acc: 94.921875 G_Loss = 2.305331230163574\n",
      "epoch: 33 D_Loss = 0.23216309398412704 acc: 94.140625 G_Loss = 2.2620849609375\n",
      "epoch: 34 D_Loss = 0.20428764820098877 acc: 94.140625 G_Loss = 2.2184505462646484\n",
      "epoch: 35 D_Loss = 0.19086790084838867 acc: 94.140625 G_Loss = 2.362950086593628\n",
      "epoch: 36 D_Loss = 0.234973706305027 acc: 92.96875 G_Loss = 2.363516092300415\n",
      "epoch: 37 D_Loss = 0.19974904507398605 acc: 95.3125 G_Loss = 2.389495611190796\n",
      "epoch: 38 D_Loss = 0.23931463807821274 acc: 93.359375 G_Loss = 2.3234245777130127\n",
      "epoch: 39 D_Loss = 0.206646628677845 acc: 93.75 G_Loss = 2.3318347930908203\n",
      "epoch: 40 D_Loss = 0.21313421428203583 acc: 93.75 G_Loss = 2.2752127647399902\n",
      "epoch: 41 D_Loss = 0.2245042473077774 acc: 94.53125 G_Loss = 2.235955238342285\n",
      "epoch: 42 D_Loss = 0.17282472550868988 acc: 95.3125 G_Loss = 2.4542393684387207\n",
      "epoch: 43 D_Loss = 0.1967109590768814 acc: 92.96875 G_Loss = 2.3532304763793945\n",
      "epoch: 44 D_Loss = 0.22129831463098526 acc: 92.96875 G_Loss = 2.2351393699645996\n",
      "epoch: 45 D_Loss = 0.21786770224571228 acc: 93.359375 G_Loss = 2.1795918941497803\n",
      "epoch: 46 D_Loss = 0.21393003314733505 acc: 93.75 G_Loss = 2.280733585357666\n",
      "epoch: 47 D_Loss = 0.1712108850479126 acc: 96.484375 G_Loss = 2.360548734664917\n",
      "epoch: 48 D_Loss = 0.1609950214624405 acc: 96.875 G_Loss = 2.3708043098449707\n",
      "epoch: 49 D_Loss = 0.1999584585428238 acc: 93.75 G_Loss = 2.4861927032470703\n",
      "epoch: 50 D_Loss = 0.2314300537109375 acc: 91.015625 G_Loss = 2.4828062057495117\n",
      "epoch: 51 D_Loss = 0.22537271678447723 acc: 93.75 G_Loss = 2.2472047805786133\n",
      "epoch: 52 D_Loss = 0.1981886848807335 acc: 92.578125 G_Loss = 2.297665596008301\n",
      "epoch: 53 D_Loss = 0.17970354855060577 acc: 95.3125 G_Loss = 2.343238353729248\n",
      "epoch: 54 D_Loss = 0.20910965651273727 acc: 94.140625 G_Loss = 2.403665542602539\n",
      "epoch: 55 D_Loss = 0.18327133357524872 acc: 94.53125 G_Loss = 2.2633657455444336\n",
      "epoch: 56 D_Loss = 0.1732369065284729 acc: 94.140625 G_Loss = 2.3567018508911133\n",
      "epoch: 57 D_Loss = 0.1496165469288826 acc: 96.875 G_Loss = 2.4597716331481934\n",
      "epoch: 58 D_Loss = 0.18886829912662506 acc: 93.359375 G_Loss = 2.2574856281280518\n",
      "epoch: 59 D_Loss = 0.1695486083626747 acc: 95.703125 G_Loss = 2.390977382659912\n",
      "epoch: 60 D_Loss = 0.1624508500099182 acc: 97.265625 G_Loss = 2.2852988243103027\n",
      "epoch: 61 D_Loss = 0.14782434701919556 acc: 96.484375 G_Loss = 2.3746891021728516\n",
      "epoch: 62 D_Loss = 0.15726597607135773 acc: 96.09375 G_Loss = 2.4164183139801025\n",
      "epoch: 63 D_Loss = 0.18275273591279984 acc: 92.96875 G_Loss = 2.314692974090576\n",
      "epoch: 64 D_Loss = 0.17922565340995789 acc: 94.140625 G_Loss = 2.2070069313049316\n",
      "epoch: 65 D_Loss = 0.1710793823003769 acc: 94.921875 G_Loss = 2.3099002838134766\n",
      "epoch: 66 D_Loss = 0.1397993415594101 acc: 96.09375 G_Loss = 2.5519368648529053\n",
      "epoch: 67 D_Loss = 0.14631656557321548 acc: 96.09375 G_Loss = 2.373352527618408\n",
      "epoch: 68 D_Loss = 0.18706991523504257 acc: 93.359375 G_Loss = 2.369481086730957\n",
      "epoch: 69 D_Loss = 0.1755407378077507 acc: 96.484375 G_Loss = 2.359351396560669\n",
      "epoch: 70 D_Loss = 0.1668165698647499 acc: 95.703125 G_Loss = 2.4368324279785156\n",
      "epoch: 71 D_Loss = 0.1706642210483551 acc: 95.703125 G_Loss = 2.4938130378723145\n",
      "epoch: 72 D_Loss = 0.16427984088659286 acc: 94.53125 G_Loss = 2.425910472869873\n",
      "epoch: 73 D_Loss = 0.17397721111774445 acc: 96.484375 G_Loss = 2.462735652923584\n",
      "epoch: 74 D_Loss = 0.15248731523752213 acc: 96.09375 G_Loss = 2.2949163913726807\n",
      "epoch: 75 D_Loss = 0.18684502691030502 acc: 95.3125 G_Loss = 2.290066719055176\n",
      "epoch: 76 D_Loss = 0.1619541198015213 acc: 95.3125 G_Loss = 2.3962419033050537\n",
      "epoch: 77 D_Loss = 0.1547614336013794 acc: 94.53125 G_Loss = 2.377389430999756\n",
      "epoch: 78 D_Loss = 0.15506597608327866 acc: 94.921875 G_Loss = 2.34799861907959\n",
      "epoch: 79 D_Loss = 0.13684272021055222 acc: 96.875 G_Loss = 2.4223341941833496\n",
      "epoch: 80 D_Loss = 0.13116911053657532 acc: 96.875 G_Loss = 2.2699642181396484\n",
      "epoch: 81 D_Loss = 0.1312614381313324 acc: 96.484375 G_Loss = 2.4358458518981934\n",
      "epoch: 82 D_Loss = 0.1749531254172325 acc: 92.96875 G_Loss = 2.392693281173706\n",
      "epoch: 83 D_Loss = 0.16539673507213593 acc: 94.140625 G_Loss = 2.3843934535980225\n",
      "epoch: 84 D_Loss = 0.148661270737648 acc: 96.484375 G_Loss = 2.5102736949920654\n",
      "epoch: 85 D_Loss = 0.15713582187891006 acc: 95.3125 G_Loss = 2.447962999343872\n",
      "epoch: 86 D_Loss = 0.16622881591320038 acc: 94.921875 G_Loss = 2.415492057800293\n",
      "epoch: 87 D_Loss = 0.13620617985725403 acc: 97.265625 G_Loss = 2.517970561981201\n",
      "epoch: 88 D_Loss = 0.16560663282871246 acc: 96.484375 G_Loss = 2.260659694671631\n",
      "epoch: 89 D_Loss = 0.1286563165485859 acc: 96.875 G_Loss = 2.4574873447418213\n",
      "epoch: 90 D_Loss = 0.13988029211759567 acc: 95.703125 G_Loss = 2.6002087593078613\n",
      "epoch: 91 D_Loss = 0.1441778466105461 acc: 95.3125 G_Loss = 2.695195198059082\n",
      "epoch: 92 D_Loss = 0.10784947499632835 acc: 98.4375 G_Loss = 2.60976505279541\n",
      "epoch: 93 D_Loss = 0.12913214415311813 acc: 97.65625 G_Loss = 2.4237122535705566\n",
      "epoch: 94 D_Loss = 0.1414540447294712 acc: 95.703125 G_Loss = 2.5543041229248047\n",
      "epoch: 95 D_Loss = 0.12234019860625267 acc: 97.265625 G_Loss = 2.5338363647460938\n",
      "epoch: 96 D_Loss = 0.10824131593108177 acc: 98.046875 G_Loss = 2.5537734031677246\n",
      "epoch: 97 D_Loss = 0.14720205962657928 acc: 95.3125 G_Loss = 2.500511646270752\n",
      "epoch: 98 D_Loss = 0.13893961906433105 acc: 97.265625 G_Loss = 2.2947404384613037\n",
      "epoch: 99 D_Loss = 0.13400664180517197 acc: 96.875 G_Loss = 2.5889298915863037\n",
      "epoch: 100 D_Loss = 0.13955599814653397 acc: 96.875 G_Loss = 2.517956256866455\n",
      "Model: \"functional_1\"\n",
      "_________________________________________________________________\n",
      "Layer (type)                 Output Shape              Param #   \n",
      "=================================================================\n",
      "Input_Noise (InputLayer)     [(None, 100)]             0         \n",
      "_________________________________________________________________\n",
      "Generator (Functional)       (None, 64, 64, 3)         453895    \n",
      "_________________________________________________________________\n",
      "Discriminator (Functional)   (None, 1)                 1818873   \n",
      "=================================================================\n",
      "Total params: 2,272,768\n",
      "Trainable params: 453,385\n",
      "Non-trainable params: 1,819,383\n",
      "_________________________________________________________________\n"
     ]
    }
   ],
   "source": [
    "train(128, 100)\n",
    "combined.summary()\n",
    "combined.save(\"./model.h5\")"
   ]
  },
  {
   "cell_type": "code",
   "execution_count": 20,
   "metadata": {},
   "outputs": [],
   "source": [
    "generator.save_weights('generator2.h5')\n",
    "discriminator.save_weights('discriminator2.h5')"
   ]
  },
  {
   "cell_type": "markdown",
   "metadata": {
    "colab_type": "text",
    "id": "BIO6ER34FCaS"
   },
   "source": [
    "# Generating Images"
   ]
  },
  {
   "cell_type": "code",
   "execution_count": null,
   "metadata": {},
   "outputs": [],
   "source": [
    "generator.load_weights('generator2.h5')\n",
    "discriminator.load_weights('discriminator2.h5')"
   ]
  },
  {
   "cell_type": "code",
   "execution_count": 21,
   "metadata": {
    "colab": {},
    "colab_type": "code",
    "id": "1wQ3OHmeXzmj"
   },
   "outputs": [],
   "source": [
    "save_imgs(100)"
   ]
  },
  {
   "cell_type": "code",
   "execution_count": 22,
   "metadata": {
    "colab": {},
    "colab_type": "code",
    "id": "sQ9WNTLTGejh"
   },
   "outputs": [
    {
     "data": {
      "text/plain": [
       "<matplotlib.image.AxesImage at 0x1770194fac0>"
      ]
     },
     "execution_count": 22,
     "metadata": {},
     "output_type": "execute_result"
    },
    {
     "data": {
      "image/png": "[encoded data removed]",
      "text/plain": [
       "<Figure size 432x288 with 1 Axes>"
      ]
     },
     "metadata": {
      "needs_background": "light"
     },
     "output_type": "display_data"
    }
   ],
   "source": [
    "noise = np.random.normal(0, 1, (1, noise_shape))\n",
    "gen_imgs = generator.predict(noise)\n",
    "gen_imgs = gen_imgs*(1/2.5) + 0.5\n",
    "\n",
    "plt.imshow(gen_imgs.reshape((64 , 64, 3)))"
   ]
  },
  {
   "cell_type": "code",
   "execution_count": null,
   "metadata": {
    "colab": {},
    "colab_type": "code",
    "id": "RkPmDGDPPyyh"
   },
   "outputs": [],
   "source": []
  },
  {
   "cell_type": "code",
   "execution_count": null,
   "metadata": {
    "colab": {},
    "colab_type": "code",
    "id": "Skoi-QEmyfLt"
   },
   "outputs": [],
   "source": []
  }
 ],
 "metadata": {
  "accelerator": "GPU",
  "colab": {
   "collapsed_sections": [
    "aLx4oMnH2StW"
   ],
   "name": "DC_GANs_for_3_channel_images_deeper_network.ipynb",
   "provenance": [],
   "toc_visible": true,
   "version": "0.3.2"
  },
  "kernelspec": {
   "display_name": "Python 3",
   "language": "python",
   "name": "python3"
  },
  "language_info": {
   "codemirror_mode": {
    "name": "ipython",
    "version": 3
   },
   "file_extension": ".py",
   "mimetype": "text/x-python",
   "name": "python",
   "nbconvert_exporter": "python",
   "pygments_lexer": "ipython3",
   "version": "3.8.8"
  }
 },
 "nbformat": 4,
 "nbformat_minor": 1
}
